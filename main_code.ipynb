{
  "cells": [
    {
      "cell_type": "markdown",
      "metadata": {
        "id": "Kj8m3gRQNYdI"
      },
      "source": [
        "# Books Recommendation System"
      ]
    },
    {
      "cell_type": "code",
      "execution_count": 1,
      "metadata": {
        "id": "EEcgmI0nNWdj"
      },
      "outputs": [],
      "source": [
        "import pandas as pd\n",
        "import numpy as np\n",
        "from sklearn.ensemble import RandomForestRegressor\n",
        "from sklearn.preprocessing import LabelEncoder,StandardScaler\n",
        "import warnings\n",
        "warnings.filterwarnings('ignore')\n",
        "import plotly.graph_objects as go\n",
        "import plotly.express as px\n",
        "from plotly.subplots import make_subplots\n",
        "from sklearn.feature_extraction.text import CountVectorizer, TfidfVectorizer\n",
        "from nltk.corpus import stopwords\n",
        "import spacy\n",
        "from spacy.lang.en.stop_words import STOP_WORDS\n",
        "import re\n",
        "from scipy.sparse import csr_matrix, hstack\n",
        "from scipy.sparse import vstack\n",
        "import faiss\n",
        "import implicit\n",
        "from implicit.als import AlternatingLeastSquares\n",
        "from scipy.sparse import save_npz, load_npz"
      ]
    },
    {
      "cell_type": "markdown",
      "metadata": {
        "id": "fk78XUBGNvjJ"
      },
      "source": [
        "#**Data Cleaning**\n"
      ]
    },
    {
      "cell_type": "code",
      "execution_count": 2,
      "metadata": {
        "id": "8Ig2LnghNWdk"
      },
      "outputs": [],
      "source": [
        "#importing the files\n",
        "Books=pd.read_excel('Books.xlsx')\n",
        "Ratings=pd.read_excel('Ratings.xlsx')\n",
        "Users=pd.read_excel('Users.xlsx')"
      ]
    },
    {
      "cell_type": "code",
      "execution_count": 3,
      "metadata": {
        "id": "kborylafNWdl",
        "outputId": "d471f449-ac9d-4800-84f9-b32cce8ed891"
      },
      "outputs": [
        {
          "name": "stdout",
          "output_type": "stream",
          "text": [
            "<class 'pandas.core.frame.DataFrame'>\n",
            "RangeIndex: 271360 entries, 0 to 271359\n",
            "Data columns (total 8 columns):\n",
            " #   Column               Non-Null Count   Dtype \n",
            "---  ------               --------------   ----- \n",
            " 0   ISBN                 271360 non-null  object\n",
            " 1   Book-Title           271360 non-null  object\n",
            " 2   Book-Author          271359 non-null  object\n",
            " 3   Year-Of-Publication  271360 non-null  object\n",
            " 4   Publisher            271358 non-null  object\n",
            " 5   Image-URL-S          271360 non-null  object\n",
            " 6   Image-URL-M          271360 non-null  object\n",
            " 7   Image-URL-L          271357 non-null  object\n",
            "dtypes: object(8)\n",
            "memory usage: 16.6+ MB\n"
          ]
        }
      ],
      "source": [
        "Books.info()"
      ]
    },
    {
      "cell_type": "code",
      "execution_count": 4,
      "metadata": {
        "id": "nkR0ab6yNWdl",
        "outputId": "a65e7ce3-2e0d-474c-9d64-d8984cc063f6"
      },
      "outputs": [
        {
          "name": "stdout",
          "output_type": "stream",
          "text": [
            "<class 'pandas.core.frame.DataFrame'>\n",
            "RangeIndex: 1149780 entries, 0 to 1149779\n",
            "Data columns (total 3 columns):\n",
            " #   Column       Non-Null Count    Dtype \n",
            "---  ------       --------------    ----- \n",
            " 0   User-ID      1149780 non-null  int64 \n",
            " 1   ISBN         1149780 non-null  object\n",
            " 2   Book-Rating  1149780 non-null  int64 \n",
            "dtypes: int64(2), object(1)\n",
            "memory usage: 26.3+ MB\n"
          ]
        }
      ],
      "source": [
        "Ratings.info()"
      ]
    },
    {
      "cell_type": "code",
      "execution_count": 5,
      "metadata": {
        "id": "-0y3gLyMNWdl",
        "outputId": "80f60945-61a4-4974-914d-ea57964b3ece"
      },
      "outputs": [
        {
          "name": "stdout",
          "output_type": "stream",
          "text": [
            "<class 'pandas.core.frame.DataFrame'>\n",
            "RangeIndex: 278858 entries, 0 to 278857\n",
            "Data columns (total 3 columns):\n",
            " #   Column    Non-Null Count   Dtype  \n",
            "---  ------    --------------   -----  \n",
            " 0   User-ID   278858 non-null  int64  \n",
            " 1   Location  278858 non-null  object \n",
            " 2   Age       168096 non-null  float64\n",
            "dtypes: float64(1), int64(1), object(1)\n",
            "memory usage: 6.4+ MB\n"
          ]
        }
      ],
      "source": [
        "Users.info()"
      ]
    },
    {
      "cell_type": "markdown",
      "metadata": {
        "id": "hrmrNdU-Nxuh"
      },
      "source": [
        "###Duplicates"
      ]
    },
    {
      "cell_type": "code",
      "execution_count": null,
      "metadata": {
        "id": "P6DK0fMmNWdl"
      },
      "outputs": [],
      "source": [
        "#This function helps to remove the duplicates and show you the duplicates\n",
        "def duplicates_remover(data,column_name1,keeps,prints_duplicates):\n",
        "  data_copy=data.copy()\n",
        "  if prints_duplicates == True:\n",
        "    if keeps == False:\n",
        "      duplicates=data_copy[data_copy.duplicated(subset=[column_name1],keep=keeps)]\n",
        "      if duplicates.empty:\n",
        "        print('No duplicates were found')\n",
        "      else:\n",
        "        duplicate_data=pd.DataFrame(duplicates)\n",
        "        print(duplicate_data.head())\n",
        "        print(duplicate_data.shape)\n",
        "    else:\n",
        "      print('please set keeps to False then olny you can able to see the duplicates')\n",
        "  elif prints_duplicates == False:\n",
        "    if keeps in 'first':\n",
        "      data_copy=data_copy.drop_duplicates(subset=[column_name1],keep=keeps)\n",
        "    elif keeps in 'last':\n",
        "      data_copy=data_copy.drop_duplicates(subset=[column_name1],keep=keeps)\n",
        "    return data_copy"
      ]
    },
    {
      "cell_type": "code",
      "execution_count": 7,
      "metadata": {
        "id": "Tgp15m3YNWdl",
        "outputId": "10578201-6bd3-4ca8-c03d-9d86fe7910e9"
      },
      "outputs": [
        {
          "name": "stdout",
          "output_type": "stream",
          "text": [
            "             ISBN                                         Book-Title  \\\n",
            "111653  486404242  War in Kind: And Other Poems (Dover Thrift Edi...   \n",
            "111808  486404242  War in Kind: And Other Poems (Dover Thrift Edi...   \n",
            "\n",
            "          Book-Author Year-Of-Publication           Publisher  \\\n",
            "111653  Stephen Crane                1998  Dover Publications   \n",
            "111808  Stephen Crane                1998  Dover Publications   \n",
            "\n",
            "                                              Image-URL-S  \\\n",
            "111653  http://images.amazon.com/images/P/0486404242.0...   \n",
            "111808  http://images.amazon.com/images/P/0486404242.0...   \n",
            "\n",
            "                                              Image-URL-M  \\\n",
            "111653  http://images.amazon.com/images/P/0486404242.0...   \n",
            "111808  http://images.amazon.com/images/P/0486404242.0...   \n",
            "\n",
            "                                              Image-URL-L  \n",
            "111653  http://images.amazon.com/images/P/0486404242.0...  \n",
            "111808  http://images.amazon.com/images/P/0486404242.0...  \n",
            "(2, 8)\n"
          ]
        }
      ],
      "source": [
        "duplicates_remover(Books,'ISBN',False,True)"
      ]
    },
    {
      "cell_type": "code",
      "execution_count": 8,
      "metadata": {
        "id": "C43wm5XmNWdm",
        "outputId": "40c12cd4-3da1-4801-c14e-e1461fab3ee1"
      },
      "outputs": [
        {
          "name": "stdout",
          "output_type": "stream",
          "text": [
            "   User-ID        ISBN  Book-Rating\n",
            "0   276725  034545104X            0\n",
            "1   276726   155061224            5\n",
            "2   276727   446520802            0\n",
            "5   276733  2080674722            0\n",
            "6   276736  3257224281            8\n",
            "(953283, 3)\n"
          ]
        }
      ],
      "source": [
        "# Function call will gives the duplicates from the data set\n",
        "duplicates_remover(Ratings,'ISBN',False,True)"
      ]
    },
    {
      "cell_type": "markdown",
      "metadata": {
        "id": "VUwF6XwcN9XS"
      },
      "source": [
        "\n",
        "\n",
        "1. We are not going to remove the duplicates from Ratings dataset.\n",
        "2. There is a chance of a single user may read different books and rated them due to that we are not going to remove them  \n",
        "\n",
        "\n",
        "\n",
        "\n"
      ]
    },
    {
      "cell_type": "code",
      "execution_count": 9,
      "metadata": {
        "id": "k-lSACNCNWdm",
        "outputId": "42fa4db0-871a-4860-b73a-c5d58dc6b977"
      },
      "outputs": [
        {
          "name": "stdout",
          "output_type": "stream",
          "text": [
            "No duplicates were found\n"
          ]
        }
      ],
      "source": [
        "# Function call will gives the duplicates from the data set\n",
        "duplicates_remover(Users,'User-ID',False,True)"
      ]
    },
    {
      "cell_type": "code",
      "execution_count": 10,
      "metadata": {
        "id": "d77lmegqNWdm"
      },
      "outputs": [],
      "source": [
        "#calling the function with parameters\n",
        "#Function call will remove the duplicates from the data and return the data without duplicates\n",
        "M_Books=duplicates_remover(Books,'ISBN','first',False)"
      ]
    },
    {
      "cell_type": "markdown",
      "metadata": {
        "id": "g_AuZqAROCMM"
      },
      "source": [
        "###Missing Values"
      ]
    },
    {
      "cell_type": "code",
      "execution_count": 11,
      "metadata": {
        "id": "QXW4lE79NWdm"
      },
      "outputs": [],
      "source": [
        "# This functions helps to fill the missing values using Random Forest Regressor\n",
        "def filling_missing_values(data,column_name,replacement):\n",
        "  data_copy=data.copy()\n",
        "  data_copy1=data.copy()\n",
        "  le=LabelEncoder()\n",
        "  if column_name in data_copy.select_dtypes(include=['object']).columns:\n",
        "    data_copy[column_name]=pd.to_numeric(data_copy[column_name],errors='coerce')\n",
        "    data_copy1[column_name]=pd.to_numeric(data_copy1[column_name],errors='coerce')\n",
        "  for col in data_copy.select_dtypes(include=['object']).columns:\n",
        "    if col in ['Image-URL-S','Image-URL-M','Image-URL-L']:\n",
        "      data_copy.drop(col,axis=1,inplace=True)\n",
        "    else:\n",
        "      data_copy[col]=data_copy[col].astype(str)\n",
        "      data_copy[col]=le.fit_transform(data_copy[col])\n",
        "  if column_name in data_copy.select_dtypes(include=['int64','float64','int32','float32']).columns:\n",
        "    if replacement in 'zero':\n",
        "      known_data=data_copy[data_copy[column_name]!=0]\n",
        "      unknown_data=data_copy[data_copy[column_name]==0]\n",
        "      if known_data.shape[0]>0 and unknown_data.shape[0]>0:\n",
        "         model = RandomForestRegressor()\n",
        "         known_data=known_data.dropna(subset=[column_name])\n",
        "         model.fit(known_data.drop([column_name],axis=1), known_data[column_name])\n",
        "         data_copy1.loc[data_copy1[column_name]== 0 ,column_name]=model.predict(unknown_data.drop([column_name],axis=1))\n",
        "      else: print('check your dataset')\n",
        "      return data_copy1\n",
        "    elif replacement in 'NaN':\n",
        "      known_data=data_copy[data_copy[column_name].notnull()]\n",
        "      unknown_data=data_copy[data_copy[column_name].isnull()]\n",
        "      if known_data.shape[0]>0 and unknown_data.shape[0]>0:\n",
        "         model = RandomForestRegressor()\n",
        "         known_data=known_data.dropna(subset=[column_name])\n",
        "         model.fit(known_data.drop([column_name],axis=1),known_data[column_name])\n",
        "         data_copy1.loc[data_copy1[column_name].isnull(),column_name] = model.predict(unknown_data.drop([column_name],axis=1))\n",
        "      else: print('check your dataset')\n",
        "      return data_copy1\n",
        "    else: print(\"please enter either zero or NaN\")\n",
        "  else: print('please enter the numerical column')"
      ]
    },
    {
      "cell_type": "code",
      "execution_count": 12,
      "metadata": {
        "id": "-Ji1NtKoNWdn"
      },
      "outputs": [],
      "source": [
        "# calling the function and stores the data in a new variable\n",
        "Books_modified=filling_missing_values(M_Books,'Year-Of-Publication','zero')\n",
        "# function call for Users data set\n",
        "Users_modified=filling_missing_values(Users,'Age','NaN')"
      ]
    },
    {
      "cell_type": "code",
      "execution_count": 13,
      "metadata": {
        "id": "mGjzK8H9NWdn",
        "outputId": "9cb3ec6e-83f1-41b1-d06f-8c5efee7dd5b"
      },
      "outputs": [
        {
          "name": "stdout",
          "output_type": "stream",
          "text": [
            "<class 'pandas.core.frame.DataFrame'>\n",
            "Int64Index: 271359 entries, 0 to 271359\n",
            "Data columns (total 8 columns):\n",
            " #   Column               Non-Null Count   Dtype  \n",
            "---  ------               --------------   -----  \n",
            " 0   ISBN                 271359 non-null  object \n",
            " 1   Book-Title           271359 non-null  object \n",
            " 2   Book-Author          271358 non-null  object \n",
            " 3   Year-Of-Publication  271356 non-null  float64\n",
            " 4   Publisher            271357 non-null  object \n",
            " 5   Image-URL-S          271359 non-null  object \n",
            " 6   Image-URL-M          271359 non-null  object \n",
            " 7   Image-URL-L          271356 non-null  object \n",
            "dtypes: float64(1), object(7)\n",
            "memory usage: 18.6+ MB\n"
          ]
        }
      ],
      "source": [
        "Books_modified.info()"
      ]
    },
    {
      "cell_type": "markdown",
      "metadata": {
        "id": "fO-qd2yxOI9z"
      },
      "source": [
        "\n",
        "*   If we observe closely the Book-Author column and also the Publisher column still two values are missing and Year-of-Publication also having the same issue.\n"
      ]
    },
    {
      "cell_type": "markdown",
      "metadata": {
        "id": "3kxe7XWcOPRs"
      },
      "source": [
        "###Data Modification"
      ]
    },
    {
      "cell_type": "code",
      "execution_count": 14,
      "metadata": {
        "id": "z-4DJNVtQeC0"
      },
      "outputs": [],
      "source": [
        "# Books data set modification"
      ]
    },
    {
      "cell_type": "code",
      "execution_count": 15,
      "metadata": {
        "id": "750rNAWzNWdn",
        "outputId": "b2b383e8-4c4f-4f2c-cabe-f362a5273fed"
      },
      "outputs": [
        {
          "name": "stdout",
          "output_type": "stream",
          "text": [
            "show the data of Year-Of-Publication feature where there are nan\n"
          ]
        },
        {
          "data": {
            "text/html": [
              "<div>\n",
              "<style scoped>\n",
              "    .dataframe tbody tr th:only-of-type {\n",
              "        vertical-align: middle;\n",
              "    }\n",
              "\n",
              "    .dataframe tbody tr th {\n",
              "        vertical-align: top;\n",
              "    }\n",
              "\n",
              "    .dataframe thead th {\n",
              "        text-align: right;\n",
              "    }\n",
              "</style>\n",
              "<table border=\"1\" class=\"dataframe\">\n",
              "  <thead>\n",
              "    <tr style=\"text-align: right;\">\n",
              "      <th></th>\n",
              "      <th>ISBN</th>\n",
              "      <th>Book-Title</th>\n",
              "      <th>Book-Author</th>\n",
              "      <th>Year-Of-Publication</th>\n",
              "      <th>Publisher</th>\n",
              "      <th>Image-URL-S</th>\n",
              "      <th>Image-URL-M</th>\n",
              "      <th>Image-URL-L</th>\n",
              "    </tr>\n",
              "  </thead>\n",
              "  <tbody>\n",
              "    <tr>\n",
              "      <th>209538</th>\n",
              "      <td>078946697X</td>\n",
              "      <td>DK Readers: Creating the X-Men, How It All Beg...</td>\n",
              "      <td>2000</td>\n",
              "      <td>NaN</td>\n",
              "      <td>http://images.amazon.com/images/P/078946697X.0...</td>\n",
              "      <td>http://images.amazon.com/images/P/078946697X.0...</td>\n",
              "      <td>http://images.amazon.com/images/P/078946697X.0...</td>\n",
              "      <td>NaN</td>\n",
              "    </tr>\n",
              "    <tr>\n",
              "      <th>220731</th>\n",
              "      <td>2070426769</td>\n",
              "      <td>Peuple du ciel, suivi de 'Les Bergers\\\";Jean-M...</td>\n",
              "      <td>2003</td>\n",
              "      <td>NaN</td>\n",
              "      <td>http://images.amazon.com/images/P/2070426769.0...</td>\n",
              "      <td>http://images.amazon.com/images/P/2070426769.0...</td>\n",
              "      <td>http://images.amazon.com/images/P/2070426769.0...</td>\n",
              "      <td>NaN</td>\n",
              "    </tr>\n",
              "    <tr>\n",
              "      <th>221678</th>\n",
              "      <td>789466953</td>\n",
              "      <td>DK Readers: Creating the X-Men, How Comic Book...</td>\n",
              "      <td>2000</td>\n",
              "      <td>NaN</td>\n",
              "      <td>http://images.amazon.com/images/P/0789466953.0...</td>\n",
              "      <td>http://images.amazon.com/images/P/0789466953.0...</td>\n",
              "      <td>http://images.amazon.com/images/P/0789466953.0...</td>\n",
              "      <td>NaN</td>\n",
              "    </tr>\n",
              "  </tbody>\n",
              "</table>\n",
              "</div>"
            ],
            "text/plain": [
              "              ISBN                                         Book-Title  \\\n",
              "209538  078946697X  DK Readers: Creating the X-Men, How It All Beg...   \n",
              "220731  2070426769  Peuple du ciel, suivi de 'Les Bergers\\\";Jean-M...   \n",
              "221678   789466953  DK Readers: Creating the X-Men, How Comic Book...   \n",
              "\n",
              "       Book-Author  Year-Of-Publication  \\\n",
              "209538        2000                  NaN   \n",
              "220731        2003                  NaN   \n",
              "221678        2000                  NaN   \n",
              "\n",
              "                                                Publisher  \\\n",
              "209538  http://images.amazon.com/images/P/078946697X.0...   \n",
              "220731  http://images.amazon.com/images/P/2070426769.0...   \n",
              "221678  http://images.amazon.com/images/P/0789466953.0...   \n",
              "\n",
              "                                              Image-URL-S  \\\n",
              "209538  http://images.amazon.com/images/P/078946697X.0...   \n",
              "220731  http://images.amazon.com/images/P/2070426769.0...   \n",
              "221678  http://images.amazon.com/images/P/0789466953.0...   \n",
              "\n",
              "                                              Image-URL-M Image-URL-L  \n",
              "209538  http://images.amazon.com/images/P/078946697X.0...         NaN  \n",
              "220731  http://images.amazon.com/images/P/2070426769.0...         NaN  \n",
              "221678  http://images.amazon.com/images/P/0789466953.0...         NaN  "
            ]
          },
          "execution_count": 15,
          "metadata": {},
          "output_type": "execute_result"
        }
      ],
      "source": [
        "# data modification\n",
        "year_Books=Books_modified['Year-Of-Publication'].isnull()\n",
        "incorrect_data=Books_modified[year_Books].copy()\n",
        "print('show the data of Year-Of-Publication feature where there are nan')\n",
        "incorrect_data.head()"
      ]
    },
    {
      "cell_type": "code",
      "execution_count": 16,
      "metadata": {
        "id": "gDQyblW9NWdn",
        "outputId": "a73c2a0b-b542-4458-b381-f7b6c6368f52"
      },
      "outputs": [
        {
          "name": "stdout",
          "output_type": "stream",
          "text": [
            "This show the original data where there might missing entery may happend\n"
          ]
        },
        {
          "data": {
            "text/html": [
              "<div>\n",
              "<style scoped>\n",
              "    .dataframe tbody tr th:only-of-type {\n",
              "        vertical-align: middle;\n",
              "    }\n",
              "\n",
              "    .dataframe tbody tr th {\n",
              "        vertical-align: top;\n",
              "    }\n",
              "\n",
              "    .dataframe thead th {\n",
              "        text-align: right;\n",
              "    }\n",
              "</style>\n",
              "<table border=\"1\" class=\"dataframe\">\n",
              "  <thead>\n",
              "    <tr style=\"text-align: right;\">\n",
              "      <th></th>\n",
              "      <th>ISBN</th>\n",
              "      <th>Book-Title</th>\n",
              "      <th>Book-Author</th>\n",
              "      <th>Year-Of-Publication</th>\n",
              "      <th>Publisher</th>\n",
              "      <th>Image-URL-S</th>\n",
              "      <th>Image-URL-M</th>\n",
              "      <th>Image-URL-L</th>\n",
              "    </tr>\n",
              "  </thead>\n",
              "  <tbody>\n",
              "    <tr>\n",
              "      <th>209538</th>\n",
              "      <td>078946697X</td>\n",
              "      <td>DK Readers: Creating the X-Men, How It All Beg...</td>\n",
              "      <td>2000</td>\n",
              "      <td>DK Publishing Inc</td>\n",
              "      <td>http://images.amazon.com/images/P/078946697X.0...</td>\n",
              "      <td>http://images.amazon.com/images/P/078946697X.0...</td>\n",
              "      <td>http://images.amazon.com/images/P/078946697X.0...</td>\n",
              "      <td>NaN</td>\n",
              "    </tr>\n",
              "    <tr>\n",
              "      <th>220731</th>\n",
              "      <td>2070426769</td>\n",
              "      <td>Peuple du ciel, suivi de 'Les Bergers\\\";Jean-M...</td>\n",
              "      <td>2003</td>\n",
              "      <td>Gallimard</td>\n",
              "      <td>http://images.amazon.com/images/P/2070426769.0...</td>\n",
              "      <td>http://images.amazon.com/images/P/2070426769.0...</td>\n",
              "      <td>http://images.amazon.com/images/P/2070426769.0...</td>\n",
              "      <td>NaN</td>\n",
              "    </tr>\n",
              "    <tr>\n",
              "      <th>221678</th>\n",
              "      <td>789466953</td>\n",
              "      <td>DK Readers: Creating the X-Men, How Comic Book...</td>\n",
              "      <td>2000</td>\n",
              "      <td>DK Publishing Inc</td>\n",
              "      <td>http://images.amazon.com/images/P/0789466953.0...</td>\n",
              "      <td>http://images.amazon.com/images/P/0789466953.0...</td>\n",
              "      <td>http://images.amazon.com/images/P/0789466953.0...</td>\n",
              "      <td>NaN</td>\n",
              "    </tr>\n",
              "  </tbody>\n",
              "</table>\n",
              "</div>"
            ],
            "text/plain": [
              "              ISBN                                         Book-Title  \\\n",
              "209538  078946697X  DK Readers: Creating the X-Men, How It All Beg...   \n",
              "220731  2070426769  Peuple du ciel, suivi de 'Les Bergers\\\";Jean-M...   \n",
              "221678   789466953  DK Readers: Creating the X-Men, How Comic Book...   \n",
              "\n",
              "       Book-Author Year-Of-Publication  \\\n",
              "209538        2000   DK Publishing Inc   \n",
              "220731        2003           Gallimard   \n",
              "221678        2000   DK Publishing Inc   \n",
              "\n",
              "                                                Publisher  \\\n",
              "209538  http://images.amazon.com/images/P/078946697X.0...   \n",
              "220731  http://images.amazon.com/images/P/2070426769.0...   \n",
              "221678  http://images.amazon.com/images/P/0789466953.0...   \n",
              "\n",
              "                                              Image-URL-S  \\\n",
              "209538  http://images.amazon.com/images/P/078946697X.0...   \n",
              "220731  http://images.amazon.com/images/P/2070426769.0...   \n",
              "221678  http://images.amazon.com/images/P/0789466953.0...   \n",
              "\n",
              "                                              Image-URL-M Image-URL-L  \n",
              "209538  http://images.amazon.com/images/P/078946697X.0...         NaN  \n",
              "220731  http://images.amazon.com/images/P/2070426769.0...         NaN  \n",
              "221678  http://images.amazon.com/images/P/0789466953.0...         NaN  "
            ]
          },
          "execution_count": 16,
          "metadata": {},
          "output_type": "execute_result"
        }
      ],
      "source": [
        "indices=incorrect_data.index\n",
        "mislead_data=Books.loc[indices]\n",
        "print('This show the original data where there might missing entery may happend')\n",
        "mislead_data.head()"
      ]
    },
    {
      "cell_type": "code",
      "execution_count": 17,
      "metadata": {
        "id": "WSoM1Q-pNWdn"
      },
      "outputs": [],
      "source": [
        "#assigning the null values data set to a variables\n",
        "Author_indices=Books_modified['Book-Author'].isnull()\n",
        "incorrect_data1=Books_modified[Author_indices].copy()\n",
        "Publisher_indices=Books_modified['Publisher'].isnull()\n",
        "incorrect_data2=Books_modified[Publisher_indices].copy()"
      ]
    },
    {
      "cell_type": "code",
      "execution_count": 18,
      "metadata": {
        "id": "43rBPHMeNWdn",
        "outputId": "f2ff1948-2438-4bca-d5e0-eb3755ac499f"
      },
      "outputs": [
        {
          "name": "stdout",
          "output_type": "stream",
          "text": [
            "This is the data where the Book-Author is missing\n"
          ]
        },
        {
          "data": {
            "text/html": [
              "<div>\n",
              "<style scoped>\n",
              "    .dataframe tbody tr th:only-of-type {\n",
              "        vertical-align: middle;\n",
              "    }\n",
              "\n",
              "    .dataframe tbody tr th {\n",
              "        vertical-align: top;\n",
              "    }\n",
              "\n",
              "    .dataframe thead th {\n",
              "        text-align: right;\n",
              "    }\n",
              "</style>\n",
              "<table border=\"1\" class=\"dataframe\">\n",
              "  <thead>\n",
              "    <tr style=\"text-align: right;\">\n",
              "      <th></th>\n",
              "      <th>ISBN</th>\n",
              "      <th>Book-Title</th>\n",
              "      <th>Book-Author</th>\n",
              "      <th>Year-Of-Publication</th>\n",
              "      <th>Publisher</th>\n",
              "      <th>Image-URL-S</th>\n",
              "      <th>Image-URL-M</th>\n",
              "      <th>Image-URL-L</th>\n",
              "    </tr>\n",
              "  </thead>\n",
              "  <tbody>\n",
              "    <tr>\n",
              "      <th>187689</th>\n",
              "      <td>9627982032</td>\n",
              "      <td>The Credit Suisse Guide to Managing Your Perso...</td>\n",
              "      <td>NaN</td>\n",
              "      <td>1995.0</td>\n",
              "      <td>Edinburgh Financial Publishing</td>\n",
              "      <td>http://images.amazon.com/images/P/9627982032.0...</td>\n",
              "      <td>http://images.amazon.com/images/P/9627982032.0...</td>\n",
              "      <td>http://images.amazon.com/images/P/9627982032.0...</td>\n",
              "    </tr>\n",
              "  </tbody>\n",
              "</table>\n",
              "</div>"
            ],
            "text/plain": [
              "              ISBN                                         Book-Title  \\\n",
              "187689  9627982032  The Credit Suisse Guide to Managing Your Perso...   \n",
              "\n",
              "       Book-Author  Year-Of-Publication                       Publisher  \\\n",
              "187689         NaN               1995.0  Edinburgh Financial Publishing   \n",
              "\n",
              "                                              Image-URL-S  \\\n",
              "187689  http://images.amazon.com/images/P/9627982032.0...   \n",
              "\n",
              "                                              Image-URL-M  \\\n",
              "187689  http://images.amazon.com/images/P/9627982032.0...   \n",
              "\n",
              "                                              Image-URL-L  \n",
              "187689  http://images.amazon.com/images/P/9627982032.0...  "
            ]
          },
          "execution_count": 18,
          "metadata": {},
          "output_type": "execute_result"
        }
      ],
      "source": [
        "incorrect_data1_indices=incorrect_data1.index\n",
        "print('This is the data where the Book-Author is missing')\n",
        "incorrect_data1"
      ]
    },
    {
      "cell_type": "code",
      "execution_count": 19,
      "metadata": {
        "id": "eHsqsyqYNWdn",
        "outputId": "e24e4783-354d-4e2b-e12f-2360cc33d1f7"
      },
      "outputs": [
        {
          "name": "stdout",
          "output_type": "stream",
          "text": [
            "This is the data where the Publisher is missing\n"
          ]
        },
        {
          "data": {
            "text/html": [
              "<div>\n",
              "<style scoped>\n",
              "    .dataframe tbody tr th:only-of-type {\n",
              "        vertical-align: middle;\n",
              "    }\n",
              "\n",
              "    .dataframe tbody tr th {\n",
              "        vertical-align: top;\n",
              "    }\n",
              "\n",
              "    .dataframe thead th {\n",
              "        text-align: right;\n",
              "    }\n",
              "</style>\n",
              "<table border=\"1\" class=\"dataframe\">\n",
              "  <thead>\n",
              "    <tr style=\"text-align: right;\">\n",
              "      <th></th>\n",
              "      <th>ISBN</th>\n",
              "      <th>Book-Title</th>\n",
              "      <th>Book-Author</th>\n",
              "      <th>Year-Of-Publication</th>\n",
              "      <th>Publisher</th>\n",
              "      <th>Image-URL-S</th>\n",
              "      <th>Image-URL-M</th>\n",
              "      <th>Image-URL-L</th>\n",
              "    </tr>\n",
              "  </thead>\n",
              "  <tbody>\n",
              "    <tr>\n",
              "      <th>128890</th>\n",
              "      <td>193169656X</td>\n",
              "      <td>Tyrant Moon</td>\n",
              "      <td>Elaine Corvidae</td>\n",
              "      <td>2002.0</td>\n",
              "      <td>NaN</td>\n",
              "      <td>http://images.amazon.com/images/P/193169656X.0...</td>\n",
              "      <td>http://images.amazon.com/images/P/193169656X.0...</td>\n",
              "      <td>http://images.amazon.com/images/P/193169656X.0...</td>\n",
              "    </tr>\n",
              "    <tr>\n",
              "      <th>129037</th>\n",
              "      <td>1931696993</td>\n",
              "      <td>Finders Keepers</td>\n",
              "      <td>Linnea Sinclair</td>\n",
              "      <td>2001.0</td>\n",
              "      <td>NaN</td>\n",
              "      <td>http://images.amazon.com/images/P/1931696993.0...</td>\n",
              "      <td>http://images.amazon.com/images/P/1931696993.0...</td>\n",
              "      <td>http://images.amazon.com/images/P/1931696993.0...</td>\n",
              "    </tr>\n",
              "  </tbody>\n",
              "</table>\n",
              "</div>"
            ],
            "text/plain": [
              "              ISBN       Book-Title      Book-Author  Year-Of-Publication  \\\n",
              "128890  193169656X      Tyrant Moon  Elaine Corvidae               2002.0   \n",
              "129037  1931696993  Finders Keepers  Linnea Sinclair               2001.0   \n",
              "\n",
              "       Publisher                                        Image-URL-S  \\\n",
              "128890       NaN  http://images.amazon.com/images/P/193169656X.0...   \n",
              "129037       NaN  http://images.amazon.com/images/P/1931696993.0...   \n",
              "\n",
              "                                              Image-URL-M  \\\n",
              "128890  http://images.amazon.com/images/P/193169656X.0...   \n",
              "129037  http://images.amazon.com/images/P/1931696993.0...   \n",
              "\n",
              "                                              Image-URL-L  \n",
              "128890  http://images.amazon.com/images/P/193169656X.0...  \n",
              "129037  http://images.amazon.com/images/P/1931696993.0...  "
            ]
          },
          "execution_count": 19,
          "metadata": {},
          "output_type": "execute_result"
        }
      ],
      "source": [
        "incorrect_data2_indices=incorrect_data2.index\n",
        "print('This is the data where the Publisher is missing')\n",
        "incorrect_data2"
      ]
    },
    {
      "cell_type": "code",
      "execution_count": 20,
      "metadata": {
        "id": "rCAx2WTCNWdo",
        "outputId": "d29bb67d-11c2-4d73-b7c2-015b86d5bd24"
      },
      "outputs": [
        {
          "data": {
            "text/html": [
              "<div>\n",
              "<style scoped>\n",
              "    .dataframe tbody tr th:only-of-type {\n",
              "        vertical-align: middle;\n",
              "    }\n",
              "\n",
              "    .dataframe tbody tr th {\n",
              "        vertical-align: top;\n",
              "    }\n",
              "\n",
              "    .dataframe thead th {\n",
              "        text-align: right;\n",
              "    }\n",
              "</style>\n",
              "<table border=\"1\" class=\"dataframe\">\n",
              "  <thead>\n",
              "    <tr style=\"text-align: right;\">\n",
              "      <th></th>\n",
              "      <th>ISBN</th>\n",
              "      <th>Book-Title</th>\n",
              "      <th>Book-Author</th>\n",
              "      <th>Year-Of-Publication</th>\n",
              "      <th>Publisher</th>\n",
              "      <th>Image-URL-S</th>\n",
              "      <th>Image-URL-M</th>\n",
              "      <th>Image-URL-L</th>\n",
              "    </tr>\n",
              "  </thead>\n",
              "  <tbody>\n",
              "    <tr>\n",
              "      <th>87898</th>\n",
              "      <td>967389305</td>\n",
              "      <td>Restoring Intimacy: The Patient's Guide to Mai...</td>\n",
              "      <td>Drew Pinsky</td>\n",
              "      <td>1999.0</td>\n",
              "      <td>3</td>\n",
              "      <td>http://images.amazon.com/images/P/0967389305.0...</td>\n",
              "      <td>http://images.amazon.com/images/P/0967389305.0...</td>\n",
              "      <td>http://images.amazon.com/images/P/0967389305.0...</td>\n",
              "    </tr>\n",
              "    <tr>\n",
              "      <th>183717</th>\n",
              "      <td>2264034173</td>\n",
              "      <td>Un troublant retour</td>\n",
              "      <td>Patricia Wentworth</td>\n",
              "      <td>2002.0</td>\n",
              "      <td>37547</td>\n",
              "      <td>http://images.amazon.com/images/P/2264034173.0...</td>\n",
              "      <td>http://images.amazon.com/images/P/2264034173.0...</td>\n",
              "      <td>http://images.amazon.com/images/P/2264034173.0...</td>\n",
              "    </tr>\n",
              "    <tr>\n",
              "      <th>258200</th>\n",
              "      <td>2264033932</td>\n",
              "      <td>David Bowie</td>\n",
              "      <td>Jร?ยฉrร?ยดme Soligny</td>\n",
              "      <td>2002.0</td>\n",
              "      <td>37547</td>\n",
              "      <td>http://images.amazon.com/images/P/2264033932.0...</td>\n",
              "      <td>http://images.amazon.com/images/P/2264033932.0...</td>\n",
              "      <td>http://images.amazon.com/images/P/2264033932.0...</td>\n",
              "    </tr>\n",
              "  </tbody>\n",
              "</table>\n",
              "</div>"
            ],
            "text/plain": [
              "              ISBN                                         Book-Title  \\\n",
              "87898    967389305  Restoring Intimacy: The Patient's Guide to Mai...   \n",
              "183717  2264034173                                Un troublant retour   \n",
              "258200  2264033932                                        David Bowie   \n",
              "\n",
              "                 Book-Author  Year-Of-Publication Publisher  \\\n",
              "87898            Drew Pinsky               1999.0         3   \n",
              "183717    Patricia Wentworth               2002.0     37547   \n",
              "258200  Jร?ยฉrร?ยดme Soligny               2002.0     37547   \n",
              "\n",
              "                                              Image-URL-S  \\\n",
              "87898   http://images.amazon.com/images/P/0967389305.0...   \n",
              "183717  http://images.amazon.com/images/P/2264034173.0...   \n",
              "258200  http://images.amazon.com/images/P/2264033932.0...   \n",
              "\n",
              "                                              Image-URL-M  \\\n",
              "87898   http://images.amazon.com/images/P/0967389305.0...   \n",
              "183717  http://images.amazon.com/images/P/2264034173.0...   \n",
              "258200  http://images.amazon.com/images/P/2264033932.0...   \n",
              "\n",
              "                                              Image-URL-L  \n",
              "87898   http://images.amazon.com/images/P/0967389305.0...  \n",
              "183717  http://images.amazon.com/images/P/2264034173.0...  \n",
              "258200  http://images.amazon.com/images/P/2264033932.0...  "
            ]
          },
          "execution_count": 20,
          "metadata": {},
          "output_type": "execute_result"
        }
      ],
      "source": [
        "# There are some values in the Publisher column which are in integer format\n",
        "integer_values_index= Books_modified[Books_modified['Publisher'].apply(lambda x: isinstance(x, int))].index.tolist()\n",
        "integer_data=Books_modified.loc[integer_values_index]\n",
        "integer_data"
      ]
    },
    {
      "cell_type": "code",
      "execution_count": 21,
      "metadata": {
        "id": "bh8KYHYWNWdo",
        "outputId": "c175f2e1-600c-41d5-e575-125d7434bb7b"
      },
      "outputs": [
        {
          "data": {
            "text/html": [
              "<div>\n",
              "<style scoped>\n",
              "    .dataframe tbody tr th:only-of-type {\n",
              "        vertical-align: middle;\n",
              "    }\n",
              "\n",
              "    .dataframe tbody tr th {\n",
              "        vertical-align: top;\n",
              "    }\n",
              "\n",
              "    .dataframe thead th {\n",
              "        text-align: right;\n",
              "    }\n",
              "</style>\n",
              "<table border=\"1\" class=\"dataframe\">\n",
              "  <thead>\n",
              "    <tr style=\"text-align: right;\">\n",
              "      <th></th>\n",
              "      <th>ISBN</th>\n",
              "      <th>Book-Title</th>\n",
              "      <th>Book-Author</th>\n",
              "      <th>Year-Of-Publication</th>\n",
              "      <th>Publisher</th>\n",
              "      <th>Image-URL-S</th>\n",
              "      <th>Image-URL-M</th>\n",
              "      <th>Image-URL-L</th>\n",
              "    </tr>\n",
              "  </thead>\n",
              "  <tbody>\n",
              "    <tr>\n",
              "      <th>227531</th>\n",
              "      <td>9643112136</td>\n",
              "      <td>Dalan-i bihisht (Dastan-i Irani)</td>\n",
              "      <td>Nazi Safavi</td>\n",
              "      <td>1378.0</td>\n",
              "      <td>Intisharat-i Quqnus</td>\n",
              "      <td>http://images.amazon.com/images/P/9643112136.0...</td>\n",
              "      <td>http://images.amazon.com/images/P/9643112136.0...</td>\n",
              "      <td>http://images.amazon.com/images/P/9643112136.0...</td>\n",
              "    </tr>\n",
              "    <tr>\n",
              "      <th>253750</th>\n",
              "      <td>964442011X</td>\n",
              "      <td>Tasht-i khun</td>\n",
              "      <td>Ismaยฐil Fasih</td>\n",
              "      <td>1376.0</td>\n",
              "      <td>Nashr-i Alburz</td>\n",
              "      <td>http://images.amazon.com/images/P/964442011X.0...</td>\n",
              "      <td>http://images.amazon.com/images/P/964442011X.0...</td>\n",
              "      <td>http://images.amazon.com/images/P/964442011X.0...</td>\n",
              "    </tr>\n",
              "  </tbody>\n",
              "</table>\n",
              "</div>"
            ],
            "text/plain": [
              "              ISBN                        Book-Title     Book-Author  \\\n",
              "227531  9643112136  Dalan-i bihisht (Dastan-i Irani)     Nazi Safavi   \n",
              "253750  964442011X                      Tasht-i khun  Ismaยฐil Fasih   \n",
              "\n",
              "        Year-Of-Publication            Publisher  \\\n",
              "227531               1378.0  Intisharat-i Quqnus   \n",
              "253750               1376.0       Nashr-i Alburz   \n",
              "\n",
              "                                              Image-URL-S  \\\n",
              "227531  http://images.amazon.com/images/P/9643112136.0...   \n",
              "253750  http://images.amazon.com/images/P/964442011X.0...   \n",
              "\n",
              "                                              Image-URL-M  \\\n",
              "227531  http://images.amazon.com/images/P/9643112136.0...   \n",
              "253750  http://images.amazon.com/images/P/964442011X.0...   \n",
              "\n",
              "                                              Image-URL-L  \n",
              "227531  http://images.amazon.com/images/P/9643112136.0...  \n",
              "253750  http://images.amazon.com/images/P/964442011X.0...  "
            ]
          },
          "execution_count": 21,
          "metadata": {},
          "output_type": "execute_result"
        }
      ],
      "source": [
        "invalid_year=Books_modified['Year-Of-Publication']<1800\n",
        "invalid_years=Books_modified[invalid_year].copy()\n",
        "invalid_years"
      ]
    },
    {
      "cell_type": "code",
      "execution_count": 22,
      "metadata": {},
      "outputs": [
        {
          "data": {
            "text/html": [
              "<div>\n",
              "<style scoped>\n",
              "    .dataframe tbody tr th:only-of-type {\n",
              "        vertical-align: middle;\n",
              "    }\n",
              "\n",
              "    .dataframe tbody tr th {\n",
              "        vertical-align: top;\n",
              "    }\n",
              "\n",
              "    .dataframe thead th {\n",
              "        text-align: right;\n",
              "    }\n",
              "</style>\n",
              "<table border=\"1\" class=\"dataframe\">\n",
              "  <thead>\n",
              "    <tr style=\"text-align: right;\">\n",
              "      <th></th>\n",
              "      <th>ISBN</th>\n",
              "      <th>Book-Title</th>\n",
              "      <th>Book-Author</th>\n",
              "      <th>Year-Of-Publication</th>\n",
              "      <th>Publisher</th>\n",
              "      <th>Image-URL-S</th>\n",
              "      <th>Image-URL-M</th>\n",
              "      <th>Image-URL-L</th>\n",
              "    </tr>\n",
              "  </thead>\n",
              "  <tbody>\n",
              "    <tr>\n",
              "      <th>37487</th>\n",
              "      <td>671746103</td>\n",
              "      <td>MY TEACHER FRIED MY BRAINS (RACK SIZE) (MY TEA...</td>\n",
              "      <td>Coville</td>\n",
              "      <td>2030.0</td>\n",
              "      <td>Aladdin</td>\n",
              "      <td>http://images.amazon.com/images/P/0671746103.0...</td>\n",
              "      <td>http://images.amazon.com/images/P/0671746103.0...</td>\n",
              "      <td>http://images.amazon.com/images/P/0671746103.0...</td>\n",
              "    </tr>\n",
              "    <tr>\n",
              "      <th>55676</th>\n",
              "      <td>671791990</td>\n",
              "      <td>MY TEACHER FLUNKED THE PLANET (RACK SIZE) (MY ...</td>\n",
              "      <td>Bruce Coville</td>\n",
              "      <td>2030.0</td>\n",
              "      <td>Aladdin</td>\n",
              "      <td>http://images.amazon.com/images/P/0671791990.0...</td>\n",
              "      <td>http://images.amazon.com/images/P/0671791990.0...</td>\n",
              "      <td>http://images.amazon.com/images/P/0671791990.0...</td>\n",
              "    </tr>\n",
              "    <tr>\n",
              "      <th>78168</th>\n",
              "      <td>870449842</td>\n",
              "      <td>Crossing America</td>\n",
              "      <td>National Geographic Society</td>\n",
              "      <td>2030.0</td>\n",
              "      <td>National Geographic</td>\n",
              "      <td>http://images.amazon.com/images/P/0870449842.0...</td>\n",
              "      <td>http://images.amazon.com/images/P/0870449842.0...</td>\n",
              "      <td>http://images.amazon.com/images/P/0870449842.0...</td>\n",
              "    </tr>\n",
              "    <tr>\n",
              "      <th>80264</th>\n",
              "      <td>140301690</td>\n",
              "      <td>Alice's Adventures in Wonderland and Through t...</td>\n",
              "      <td>Lewis Carroll</td>\n",
              "      <td>2050.0</td>\n",
              "      <td>Puffin Books</td>\n",
              "      <td>http://images.amazon.com/images/P/0140301690.0...</td>\n",
              "      <td>http://images.amazon.com/images/P/0140301690.0...</td>\n",
              "      <td>http://images.amazon.com/images/P/0140301690.0...</td>\n",
              "    </tr>\n",
              "    <tr>\n",
              "      <th>97826</th>\n",
              "      <td>140201092</td>\n",
              "      <td>Outline of European Architecture (Pelican S.)</td>\n",
              "      <td>Nikolaus Pevsner</td>\n",
              "      <td>2050.0</td>\n",
              "      <td>Penguin USA</td>\n",
              "      <td>http://images.amazon.com/images/P/0140201092.0...</td>\n",
              "      <td>http://images.amazon.com/images/P/0140201092.0...</td>\n",
              "      <td>http://images.amazon.com/images/P/0140201092.0...</td>\n",
              "    </tr>\n",
              "    <tr>\n",
              "      <th>116053</th>\n",
              "      <td>394701658</td>\n",
              "      <td>Three Plays of Eugene Oneill</td>\n",
              "      <td>Eugene O'Neill</td>\n",
              "      <td>2038.0</td>\n",
              "      <td>Vintage Books USA</td>\n",
              "      <td>http://images.amazon.com/images/P/0394701658.0...</td>\n",
              "      <td>http://images.amazon.com/images/P/0394701658.0...</td>\n",
              "      <td>http://images.amazon.com/images/P/0394701658.0...</td>\n",
              "    </tr>\n",
              "    <tr>\n",
              "      <th>118294</th>\n",
              "      <td>3442436893</td>\n",
              "      <td>Das groร?ย?e Bร?ยถse- Mร?ยคdchen- Lesebuch.</td>\n",
              "      <td>Kathy Lette</td>\n",
              "      <td>2026.0</td>\n",
              "      <td>Goldmann</td>\n",
              "      <td>http://images.amazon.com/images/P/3442436893.0...</td>\n",
              "      <td>http://images.amazon.com/images/P/3442436893.0...</td>\n",
              "      <td>http://images.amazon.com/images/P/3442436893.0...</td>\n",
              "    </tr>\n",
              "    <tr>\n",
              "      <th>192993</th>\n",
              "      <td>870446924</td>\n",
              "      <td>Field Guide to the Birds of North America, 3rd...</td>\n",
              "      <td>National Geographic Society</td>\n",
              "      <td>2030.0</td>\n",
              "      <td>National Geographic</td>\n",
              "      <td>http://images.amazon.com/images/P/0870446924.0...</td>\n",
              "      <td>http://images.amazon.com/images/P/0870446924.0...</td>\n",
              "      <td>http://images.amazon.com/images/P/0870446924.0...</td>\n",
              "    </tr>\n",
              "    <tr>\n",
              "      <th>228173</th>\n",
              "      <td>671266500</td>\n",
              "      <td>FOREST PEOPLE (Touchstone Books (Hardcover))</td>\n",
              "      <td>Colin M. Turnbull</td>\n",
              "      <td>2030.0</td>\n",
              "      <td>Simon &amp;amp; Schuster</td>\n",
              "      <td>http://images.amazon.com/images/P/0671266500.0...</td>\n",
              "      <td>http://images.amazon.com/images/P/0671266500.0...</td>\n",
              "      <td>http://images.amazon.com/images/P/0671266500.0...</td>\n",
              "    </tr>\n",
              "    <tr>\n",
              "      <th>240169</th>\n",
              "      <td>684718022</td>\n",
              "      <td>In Our Time: Stories (Scribner Classic)</td>\n",
              "      <td>Ernest Hemingway</td>\n",
              "      <td>2030.0</td>\n",
              "      <td>Collier Books</td>\n",
              "      <td>http://images.amazon.com/images/P/0684718022.0...</td>\n",
              "      <td>http://images.amazon.com/images/P/0684718022.0...</td>\n",
              "      <td>http://images.amazon.com/images/P/0684718022.0...</td>\n",
              "    </tr>\n",
              "    <tr>\n",
              "      <th>255409</th>\n",
              "      <td>068471809X</td>\n",
              "      <td>To Have and Have Not</td>\n",
              "      <td>Ernest Hemingway</td>\n",
              "      <td>2037.0</td>\n",
              "      <td>Simon &amp;amp; Schuster</td>\n",
              "      <td>http://images.amazon.com/images/P/068471809X.0...</td>\n",
              "      <td>http://images.amazon.com/images/P/068471809X.0...</td>\n",
              "      <td>http://images.amazon.com/images/P/068471809X.0...</td>\n",
              "    </tr>\n",
              "    <tr>\n",
              "      <th>260974</th>\n",
              "      <td>671740989</td>\n",
              "      <td>FOOTBALL SUPER TEAMS : FOOTBALL SUPER TEAMS</td>\n",
              "      <td>Bill Gutman</td>\n",
              "      <td>2030.0</td>\n",
              "      <td>Simon &amp;amp; Schuster Children's Publishing</td>\n",
              "      <td>http://images.amazon.com/images/P/0671740989.0...</td>\n",
              "      <td>http://images.amazon.com/images/P/0671740989.0...</td>\n",
              "      <td>http://images.amazon.com/images/P/0671740989.0...</td>\n",
              "    </tr>\n",
              "  </tbody>\n",
              "</table>\n",
              "</div>"
            ],
            "text/plain": [
              "              ISBN                                         Book-Title  \\\n",
              "37487    671746103  MY TEACHER FRIED MY BRAINS (RACK SIZE) (MY TEA...   \n",
              "55676    671791990  MY TEACHER FLUNKED THE PLANET (RACK SIZE) (MY ...   \n",
              "78168    870449842                                   Crossing America   \n",
              "80264    140301690  Alice's Adventures in Wonderland and Through t...   \n",
              "97826    140201092      Outline of European Architecture (Pelican S.)   \n",
              "116053   394701658                       Three Plays of Eugene Oneill   \n",
              "118294  3442436893        Das groร?ย?e Bร?ยถse- Mร?ยคdchen- Lesebuch.   \n",
              "192993   870446924  Field Guide to the Birds of North America, 3rd...   \n",
              "228173   671266500       FOREST PEOPLE (Touchstone Books (Hardcover))   \n",
              "240169   684718022            In Our Time: Stories (Scribner Classic)   \n",
              "255409  068471809X                               To Have and Have Not   \n",
              "260974   671740989        FOOTBALL SUPER TEAMS : FOOTBALL SUPER TEAMS   \n",
              "\n",
              "                        Book-Author  Year-Of-Publication  \\\n",
              "37487                       Coville               2030.0   \n",
              "55676                 Bruce Coville               2030.0   \n",
              "78168   National Geographic Society               2030.0   \n",
              "80264                 Lewis Carroll               2050.0   \n",
              "97826              Nikolaus Pevsner               2050.0   \n",
              "116053               Eugene O'Neill               2038.0   \n",
              "118294                  Kathy Lette               2026.0   \n",
              "192993  National Geographic Society               2030.0   \n",
              "228173            Colin M. Turnbull               2030.0   \n",
              "240169             Ernest Hemingway               2030.0   \n",
              "255409             Ernest Hemingway               2037.0   \n",
              "260974                  Bill Gutman               2030.0   \n",
              "\n",
              "                                         Publisher  \\\n",
              "37487                                      Aladdin   \n",
              "55676                                      Aladdin   \n",
              "78168                          National Geographic   \n",
              "80264                                 Puffin Books   \n",
              "97826                                  Penguin USA   \n",
              "116053                           Vintage Books USA   \n",
              "118294                                    Goldmann   \n",
              "192993                         National Geographic   \n",
              "228173                        Simon &amp; Schuster   \n",
              "240169                               Collier Books   \n",
              "255409                        Simon &amp; Schuster   \n",
              "260974  Simon &amp; Schuster Children's Publishing   \n",
              "\n",
              "                                              Image-URL-S  \\\n",
              "37487   http://images.amazon.com/images/P/0671746103.0...   \n",
              "55676   http://images.amazon.com/images/P/0671791990.0...   \n",
              "78168   http://images.amazon.com/images/P/0870449842.0...   \n",
              "80264   http://images.amazon.com/images/P/0140301690.0...   \n",
              "97826   http://images.amazon.com/images/P/0140201092.0...   \n",
              "116053  http://images.amazon.com/images/P/0394701658.0...   \n",
              "118294  http://images.amazon.com/images/P/3442436893.0...   \n",
              "192993  http://images.amazon.com/images/P/0870446924.0...   \n",
              "228173  http://images.amazon.com/images/P/0671266500.0...   \n",
              "240169  http://images.amazon.com/images/P/0684718022.0...   \n",
              "255409  http://images.amazon.com/images/P/068471809X.0...   \n",
              "260974  http://images.amazon.com/images/P/0671740989.0...   \n",
              "\n",
              "                                              Image-URL-M  \\\n",
              "37487   http://images.amazon.com/images/P/0671746103.0...   \n",
              "55676   http://images.amazon.com/images/P/0671791990.0...   \n",
              "78168   http://images.amazon.com/images/P/0870449842.0...   \n",
              "80264   http://images.amazon.com/images/P/0140301690.0...   \n",
              "97826   http://images.amazon.com/images/P/0140201092.0...   \n",
              "116053  http://images.amazon.com/images/P/0394701658.0...   \n",
              "118294  http://images.amazon.com/images/P/3442436893.0...   \n",
              "192993  http://images.amazon.com/images/P/0870446924.0...   \n",
              "228173  http://images.amazon.com/images/P/0671266500.0...   \n",
              "240169  http://images.amazon.com/images/P/0684718022.0...   \n",
              "255409  http://images.amazon.com/images/P/068471809X.0...   \n",
              "260974  http://images.amazon.com/images/P/0671740989.0...   \n",
              "\n",
              "                                              Image-URL-L  \n",
              "37487   http://images.amazon.com/images/P/0671746103.0...  \n",
              "55676   http://images.amazon.com/images/P/0671791990.0...  \n",
              "78168   http://images.amazon.com/images/P/0870449842.0...  \n",
              "80264   http://images.amazon.com/images/P/0140301690.0...  \n",
              "97826   http://images.amazon.com/images/P/0140201092.0...  \n",
              "116053  http://images.amazon.com/images/P/0394701658.0...  \n",
              "118294  http://images.amazon.com/images/P/3442436893.0...  \n",
              "192993  http://images.amazon.com/images/P/0870446924.0...  \n",
              "228173  http://images.amazon.com/images/P/0671266500.0...  \n",
              "240169  http://images.amazon.com/images/P/0684718022.0...  \n",
              "255409  http://images.amazon.com/images/P/068471809X.0...  \n",
              "260974  http://images.amazon.com/images/P/0671740989.0...  "
            ]
          },
          "execution_count": 22,
          "metadata": {},
          "output_type": "execute_result"
        }
      ],
      "source": [
        "invalid_years1=Books_modified[Books_modified['Year-Of-Publication']>2024]\n",
        "invalid_years11=Books_modified.loc[invalid_years1.index]\n",
        "invalid_years11"
      ]
    },
    {
      "cell_type": "markdown",
      "metadata": {
        "id": "cUY5D9BJOkoG"
      },
      "source": [
        "\n",
        "*   After comparing with the original data, we can see that the data entry is just misled.\n",
        "*   See in the place of Book-Author they just enterd the Year of publication in the place of they entered the publisher similarly other columns too.\n",
        "*   There are alot of nan values and in publisher column also the data is miss entered\n",
        "*   So lets just enter the data manually.\n"
      ]
    },
    {
      "cell_type": "code",
      "execution_count": 23,
      "metadata": {
        "id": "z14mfsZLNWdo"
      },
      "outputs": [],
      "source": [
        "# Manually entering the correct data to the miss leaded rows\n",
        "Books_modified.loc[[209538,220731,221678],['Book-Author','Year-Of-Publication','Publisher','Image-URL-S','Image-URL-M','Image-URL-L']]=\\\n",
        " [['Michael Teitelbaum',2000,'DK Publishing Inc','http://images.amazon.com/images/P/078946697X.01.THUMBZZZ.jpg','http://images.amazon.com/images/P/078946697X.01.MZZZZZZZ.jpg','http://images.amazon.com/images/P/078946697X.01.LZZZZZZZ.jpg'],\n",
        "  ['Jean-Marie Gustave Le Clézio',2002,'Gallimard\t','http://images.amazon.com/images/P/2070426769.01.THUMBZZZ.jpg','http://images.amazon.com/images/P/2070426769.01.MZZZZZZZ.jpg','http://images.amazon.com/images/P/2070426769.01.LZZZZZZZ.jpg'],\n",
        "  ['James Buckley Jr',2000,'DK Publishing Inc','http://images.amazon.com/images/P/0789466953.01.THUMBZZZ.jpg','http://images.amazon.com/images/P/0789466953.01.MZZZZZZZ.jpg','http://images.amazon.com/images/P/0789466953.01.LZZZZZZZ.jpg']]\n",
        "# Manually entering the correct data to the author where there are nan\n",
        "Books_modified.loc[[118033,187689],'Book-Author']=[['Dorling Kindersley'],['Sophie Pyott (Editor)']]\n",
        "# Manually entering the correct data to the Publisher where there are nan\n",
        "Books_modified.loc[[128890,129037],'Publisher']=[['NovelBooks, Inc'],['NovelBooks, Inc']]\n",
        "# entering the data using ffill method to the Publisher where there are integer values\n",
        "Books_modified.loc[integer_values_index,'Publisher']=pd.NA\n",
        "Books_modified['Publisher'].fillna(method='ffill',inplace=True)\n",
        "# invalid years are replaced with the real years\n",
        "Books_modified.loc[[227531,253750,260974,255409,240169,228173,192993,118294,116053,97826,80264,78168,55676,37487],'Year-Of-Publication']=[1999,1997,1991,1937,1925,1961,1999,2006,1952,1942,1977,1994,1992,1991]"
      ]
    },
    {
      "cell_type": "code",
      "execution_count": 24,
      "metadata": {
        "id": "o5hR-EOoNWdo"
      },
      "outputs": [],
      "source": [
        "Books_modified['Year-Of-Publication']=Books_modified['Year-Of-Publication'].astype(int)"
      ]
    },
    {
      "cell_type": "code",
      "execution_count": 25,
      "metadata": {
        "id": "TSb-a2BINWdo",
        "outputId": "c99c2ead-05a2-4318-890e-1b97afc66ccd"
      },
      "outputs": [
        {
          "data": {
            "text/html": [
              "<div>\n",
              "<style scoped>\n",
              "    .dataframe tbody tr th:only-of-type {\n",
              "        vertical-align: middle;\n",
              "    }\n",
              "\n",
              "    .dataframe tbody tr th {\n",
              "        vertical-align: top;\n",
              "    }\n",
              "\n",
              "    .dataframe thead th {\n",
              "        text-align: right;\n",
              "    }\n",
              "</style>\n",
              "<table border=\"1\" class=\"dataframe\">\n",
              "  <thead>\n",
              "    <tr style=\"text-align: right;\">\n",
              "      <th></th>\n",
              "      <th>ISBN</th>\n",
              "      <th>Book-Title</th>\n",
              "      <th>Book-Author</th>\n",
              "      <th>Year-Of-Publication</th>\n",
              "      <th>Publisher</th>\n",
              "      <th>Image-URL-S</th>\n",
              "      <th>Image-URL-M</th>\n",
              "      <th>Image-URL-L</th>\n",
              "    </tr>\n",
              "  </thead>\n",
              "  <tbody>\n",
              "    <tr>\n",
              "      <th>209538</th>\n",
              "      <td>078946697X</td>\n",
              "      <td>DK Readers: Creating the X-Men, How It All Beg...</td>\n",
              "      <td>Michael Teitelbaum</td>\n",
              "      <td>2000</td>\n",
              "      <td>DK Publishing Inc</td>\n",
              "      <td>http://images.amazon.com/images/P/078946697X.0...</td>\n",
              "      <td>http://images.amazon.com/images/P/078946697X.0...</td>\n",
              "      <td>http://images.amazon.com/images/P/078946697X.0...</td>\n",
              "    </tr>\n",
              "    <tr>\n",
              "      <th>220731</th>\n",
              "      <td>2070426769</td>\n",
              "      <td>Peuple du ciel, suivi de 'Les Bergers\\\";Jean-M...</td>\n",
              "      <td>Jean-Marie Gustave Le Clézio</td>\n",
              "      <td>2002</td>\n",
              "      <td>Gallimard\\t</td>\n",
              "      <td>http://images.amazon.com/images/P/2070426769.0...</td>\n",
              "      <td>http://images.amazon.com/images/P/2070426769.0...</td>\n",
              "      <td>http://images.amazon.com/images/P/2070426769.0...</td>\n",
              "    </tr>\n",
              "    <tr>\n",
              "      <th>221678</th>\n",
              "      <td>789466953</td>\n",
              "      <td>DK Readers: Creating the X-Men, How Comic Book...</td>\n",
              "      <td>James Buckley Jr</td>\n",
              "      <td>2000</td>\n",
              "      <td>DK Publishing Inc</td>\n",
              "      <td>http://images.amazon.com/images/P/0789466953.0...</td>\n",
              "      <td>http://images.amazon.com/images/P/0789466953.0...</td>\n",
              "      <td>http://images.amazon.com/images/P/0789466953.0...</td>\n",
              "    </tr>\n",
              "  </tbody>\n",
              "</table>\n",
              "</div>"
            ],
            "text/plain": [
              "              ISBN                                         Book-Title  \\\n",
              "209538  078946697X  DK Readers: Creating the X-Men, How It All Beg...   \n",
              "220731  2070426769  Peuple du ciel, suivi de 'Les Bergers\\\";Jean-M...   \n",
              "221678   789466953  DK Readers: Creating the X-Men, How Comic Book...   \n",
              "\n",
              "                         Book-Author  Year-Of-Publication          Publisher  \\\n",
              "209538            Michael Teitelbaum                 2000  DK Publishing Inc   \n",
              "220731  Jean-Marie Gustave Le Clézio                 2002        Gallimard\\t   \n",
              "221678              James Buckley Jr                 2000  DK Publishing Inc   \n",
              "\n",
              "                                              Image-URL-S  \\\n",
              "209538  http://images.amazon.com/images/P/078946697X.0...   \n",
              "220731  http://images.amazon.com/images/P/2070426769.0...   \n",
              "221678  http://images.amazon.com/images/P/0789466953.0...   \n",
              "\n",
              "                                              Image-URL-M  \\\n",
              "209538  http://images.amazon.com/images/P/078946697X.0...   \n",
              "220731  http://images.amazon.com/images/P/2070426769.0...   \n",
              "221678  http://images.amazon.com/images/P/0789466953.0...   \n",
              "\n",
              "                                              Image-URL-L  \n",
              "209538  http://images.amazon.com/images/P/078946697X.0...  \n",
              "220731  http://images.amazon.com/images/P/2070426769.0...  \n",
              "221678  http://images.amazon.com/images/P/0789466953.0...  "
            ]
          },
          "execution_count": 25,
          "metadata": {},
          "output_type": "execute_result"
        }
      ],
      "source": [
        "Books_modified.loc[indices]"
      ]
    },
    {
      "cell_type": "code",
      "execution_count": 26,
      "metadata": {
        "id": "lZjldK0rNWdo",
        "outputId": "3769b0cb-5d04-4c40-dcf7-8b1f54238d74"
      },
      "outputs": [
        {
          "data": {
            "text/html": [
              "<div>\n",
              "<style scoped>\n",
              "    .dataframe tbody tr th:only-of-type {\n",
              "        vertical-align: middle;\n",
              "    }\n",
              "\n",
              "    .dataframe tbody tr th {\n",
              "        vertical-align: top;\n",
              "    }\n",
              "\n",
              "    .dataframe thead th {\n",
              "        text-align: right;\n",
              "    }\n",
              "</style>\n",
              "<table border=\"1\" class=\"dataframe\">\n",
              "  <thead>\n",
              "    <tr style=\"text-align: right;\">\n",
              "      <th></th>\n",
              "      <th>ISBN</th>\n",
              "      <th>Book-Title</th>\n",
              "      <th>Book-Author</th>\n",
              "      <th>Year-Of-Publication</th>\n",
              "      <th>Publisher</th>\n",
              "      <th>Image-URL-S</th>\n",
              "      <th>Image-URL-M</th>\n",
              "      <th>Image-URL-L</th>\n",
              "    </tr>\n",
              "  </thead>\n",
              "  <tbody>\n",
              "    <tr>\n",
              "      <th>187689</th>\n",
              "      <td>9627982032</td>\n",
              "      <td>The Credit Suisse Guide to Managing Your Perso...</td>\n",
              "      <td>Sophie Pyott (Editor)</td>\n",
              "      <td>1995</td>\n",
              "      <td>Edinburgh Financial Publishing</td>\n",
              "      <td>http://images.amazon.com/images/P/9627982032.0...</td>\n",
              "      <td>http://images.amazon.com/images/P/9627982032.0...</td>\n",
              "      <td>http://images.amazon.com/images/P/9627982032.0...</td>\n",
              "    </tr>\n",
              "  </tbody>\n",
              "</table>\n",
              "</div>"
            ],
            "text/plain": [
              "              ISBN                                         Book-Title  \\\n",
              "187689  9627982032  The Credit Suisse Guide to Managing Your Perso...   \n",
              "\n",
              "                  Book-Author  Year-Of-Publication  \\\n",
              "187689  Sophie Pyott (Editor)                 1995   \n",
              "\n",
              "                             Publisher  \\\n",
              "187689  Edinburgh Financial Publishing   \n",
              "\n",
              "                                              Image-URL-S  \\\n",
              "187689  http://images.amazon.com/images/P/9627982032.0...   \n",
              "\n",
              "                                              Image-URL-M  \\\n",
              "187689  http://images.amazon.com/images/P/9627982032.0...   \n",
              "\n",
              "                                              Image-URL-L  \n",
              "187689  http://images.amazon.com/images/P/9627982032.0...  "
            ]
          },
          "execution_count": 26,
          "metadata": {},
          "output_type": "execute_result"
        }
      ],
      "source": [
        "Books_modified.loc[incorrect_data1_indices]"
      ]
    },
    {
      "cell_type": "code",
      "execution_count": 27,
      "metadata": {
        "id": "MJM3XxnnNWdp",
        "outputId": "8ea21bb9-d2a9-4acb-d5c8-ae97f7afa8c8"
      },
      "outputs": [
        {
          "data": {
            "text/html": [
              "<div>\n",
              "<style scoped>\n",
              "    .dataframe tbody tr th:only-of-type {\n",
              "        vertical-align: middle;\n",
              "    }\n",
              "\n",
              "    .dataframe tbody tr th {\n",
              "        vertical-align: top;\n",
              "    }\n",
              "\n",
              "    .dataframe thead th {\n",
              "        text-align: right;\n",
              "    }\n",
              "</style>\n",
              "<table border=\"1\" class=\"dataframe\">\n",
              "  <thead>\n",
              "    <tr style=\"text-align: right;\">\n",
              "      <th></th>\n",
              "      <th>ISBN</th>\n",
              "      <th>Book-Title</th>\n",
              "      <th>Book-Author</th>\n",
              "      <th>Year-Of-Publication</th>\n",
              "      <th>Publisher</th>\n",
              "      <th>Image-URL-S</th>\n",
              "      <th>Image-URL-M</th>\n",
              "      <th>Image-URL-L</th>\n",
              "    </tr>\n",
              "  </thead>\n",
              "  <tbody>\n",
              "    <tr>\n",
              "      <th>128890</th>\n",
              "      <td>193169656X</td>\n",
              "      <td>Tyrant Moon</td>\n",
              "      <td>Elaine Corvidae</td>\n",
              "      <td>2002</td>\n",
              "      <td>NovelBooks, Inc</td>\n",
              "      <td>http://images.amazon.com/images/P/193169656X.0...</td>\n",
              "      <td>http://images.amazon.com/images/P/193169656X.0...</td>\n",
              "      <td>http://images.amazon.com/images/P/193169656X.0...</td>\n",
              "    </tr>\n",
              "    <tr>\n",
              "      <th>129037</th>\n",
              "      <td>1931696993</td>\n",
              "      <td>Finders Keepers</td>\n",
              "      <td>Linnea Sinclair</td>\n",
              "      <td>2001</td>\n",
              "      <td>NovelBooks, Inc</td>\n",
              "      <td>http://images.amazon.com/images/P/1931696993.0...</td>\n",
              "      <td>http://images.amazon.com/images/P/1931696993.0...</td>\n",
              "      <td>http://images.amazon.com/images/P/1931696993.0...</td>\n",
              "    </tr>\n",
              "  </tbody>\n",
              "</table>\n",
              "</div>"
            ],
            "text/plain": [
              "              ISBN       Book-Title      Book-Author  Year-Of-Publication  \\\n",
              "128890  193169656X      Tyrant Moon  Elaine Corvidae                 2002   \n",
              "129037  1931696993  Finders Keepers  Linnea Sinclair                 2001   \n",
              "\n",
              "              Publisher                                        Image-URL-S  \\\n",
              "128890  NovelBooks, Inc  http://images.amazon.com/images/P/193169656X.0...   \n",
              "129037  NovelBooks, Inc  http://images.amazon.com/images/P/1931696993.0...   \n",
              "\n",
              "                                              Image-URL-M  \\\n",
              "128890  http://images.amazon.com/images/P/193169656X.0...   \n",
              "129037  http://images.amazon.com/images/P/1931696993.0...   \n",
              "\n",
              "                                              Image-URL-L  \n",
              "128890  http://images.amazon.com/images/P/193169656X.0...  \n",
              "129037  http://images.amazon.com/images/P/1931696993.0...  "
            ]
          },
          "execution_count": 27,
          "metadata": {},
          "output_type": "execute_result"
        }
      ],
      "source": [
        "Books_modified.loc[incorrect_data2_indices]"
      ]
    },
    {
      "cell_type": "code",
      "execution_count": 28,
      "metadata": {
        "id": "2MyQh7xONWdp",
        "outputId": "cd0ae299-e1dd-4651-9870-0ccebeeb49ad"
      },
      "outputs": [
        {
          "data": {
            "text/html": [
              "<div>\n",
              "<style scoped>\n",
              "    .dataframe tbody tr th:only-of-type {\n",
              "        vertical-align: middle;\n",
              "    }\n",
              "\n",
              "    .dataframe tbody tr th {\n",
              "        vertical-align: top;\n",
              "    }\n",
              "\n",
              "    .dataframe thead th {\n",
              "        text-align: right;\n",
              "    }\n",
              "</style>\n",
              "<table border=\"1\" class=\"dataframe\">\n",
              "  <thead>\n",
              "    <tr style=\"text-align: right;\">\n",
              "      <th></th>\n",
              "      <th>ISBN</th>\n",
              "      <th>Book-Title</th>\n",
              "      <th>Book-Author</th>\n",
              "      <th>Year-Of-Publication</th>\n",
              "      <th>Publisher</th>\n",
              "      <th>Image-URL-S</th>\n",
              "      <th>Image-URL-M</th>\n",
              "      <th>Image-URL-L</th>\n",
              "    </tr>\n",
              "  </thead>\n",
              "  <tbody>\n",
              "    <tr>\n",
              "      <th>87898</th>\n",
              "      <td>967389305</td>\n",
              "      <td>Restoring Intimacy: The Patient's Guide to Mai...</td>\n",
              "      <td>Drew Pinsky</td>\n",
              "      <td>1999</td>\n",
              "      <td>MacAdam/Cage Publishing</td>\n",
              "      <td>http://images.amazon.com/images/P/0967389305.0...</td>\n",
              "      <td>http://images.amazon.com/images/P/0967389305.0...</td>\n",
              "      <td>http://images.amazon.com/images/P/0967389305.0...</td>\n",
              "    </tr>\n",
              "    <tr>\n",
              "      <th>183717</th>\n",
              "      <td>2264034173</td>\n",
              "      <td>Un troublant retour</td>\n",
              "      <td>Patricia Wentworth</td>\n",
              "      <td>2002</td>\n",
              "      <td>Scholastic</td>\n",
              "      <td>http://images.amazon.com/images/P/2264034173.0...</td>\n",
              "      <td>http://images.amazon.com/images/P/2264034173.0...</td>\n",
              "      <td>http://images.amazon.com/images/P/2264034173.0...</td>\n",
              "    </tr>\n",
              "    <tr>\n",
              "      <th>258200</th>\n",
              "      <td>2264033932</td>\n",
              "      <td>David Bowie</td>\n",
              "      <td>Jร?ยฉrร?ยดme Soligny</td>\n",
              "      <td>2002</td>\n",
              "      <td>Silhouette</td>\n",
              "      <td>http://images.amazon.com/images/P/2264033932.0...</td>\n",
              "      <td>http://images.amazon.com/images/P/2264033932.0...</td>\n",
              "      <td>http://images.amazon.com/images/P/2264033932.0...</td>\n",
              "    </tr>\n",
              "  </tbody>\n",
              "</table>\n",
              "</div>"
            ],
            "text/plain": [
              "              ISBN                                         Book-Title  \\\n",
              "87898    967389305  Restoring Intimacy: The Patient's Guide to Mai...   \n",
              "183717  2264034173                                Un troublant retour   \n",
              "258200  2264033932                                        David Bowie   \n",
              "\n",
              "                 Book-Author  Year-Of-Publication                Publisher  \\\n",
              "87898            Drew Pinsky                 1999  MacAdam/Cage Publishing   \n",
              "183717    Patricia Wentworth                 2002               Scholastic   \n",
              "258200  Jร?ยฉrร?ยดme Soligny                 2002               Silhouette   \n",
              "\n",
              "                                              Image-URL-S  \\\n",
              "87898   http://images.amazon.com/images/P/0967389305.0...   \n",
              "183717  http://images.amazon.com/images/P/2264034173.0...   \n",
              "258200  http://images.amazon.com/images/P/2264033932.0...   \n",
              "\n",
              "                                              Image-URL-M  \\\n",
              "87898   http://images.amazon.com/images/P/0967389305.0...   \n",
              "183717  http://images.amazon.com/images/P/2264034173.0...   \n",
              "258200  http://images.amazon.com/images/P/2264033932.0...   \n",
              "\n",
              "                                              Image-URL-L  \n",
              "87898   http://images.amazon.com/images/P/0967389305.0...  \n",
              "183717  http://images.amazon.com/images/P/2264034173.0...  \n",
              "258200  http://images.amazon.com/images/P/2264033932.0...  "
            ]
          },
          "execution_count": 28,
          "metadata": {},
          "output_type": "execute_result"
        }
      ],
      "source": [
        "Books_modified.loc[integer_values_index]"
      ]
    },
    {
      "cell_type": "code",
      "execution_count": 29,
      "metadata": {
        "id": "u2E7SPssNWdp",
        "outputId": "4a9e1701-0bce-4a31-fb1f-40e19b010c24"
      },
      "outputs": [
        {
          "data": {
            "text/html": [
              "<div>\n",
              "<style scoped>\n",
              "    .dataframe tbody tr th:only-of-type {\n",
              "        vertical-align: middle;\n",
              "    }\n",
              "\n",
              "    .dataframe tbody tr th {\n",
              "        vertical-align: top;\n",
              "    }\n",
              "\n",
              "    .dataframe thead th {\n",
              "        text-align: right;\n",
              "    }\n",
              "</style>\n",
              "<table border=\"1\" class=\"dataframe\">\n",
              "  <thead>\n",
              "    <tr style=\"text-align: right;\">\n",
              "      <th></th>\n",
              "      <th>ISBN</th>\n",
              "      <th>Book-Title</th>\n",
              "      <th>Book-Author</th>\n",
              "      <th>Year-Of-Publication</th>\n",
              "      <th>Publisher</th>\n",
              "      <th>Image-URL-S</th>\n",
              "      <th>Image-URL-M</th>\n",
              "      <th>Image-URL-L</th>\n",
              "    </tr>\n",
              "  </thead>\n",
              "  <tbody>\n",
              "    <tr>\n",
              "      <th>227531</th>\n",
              "      <td>9643112136</td>\n",
              "      <td>Dalan-i bihisht (Dastan-i Irani)</td>\n",
              "      <td>Nazi Safavi</td>\n",
              "      <td>1999</td>\n",
              "      <td>Intisharat-i Quqnus</td>\n",
              "      <td>http://images.amazon.com/images/P/9643112136.0...</td>\n",
              "      <td>http://images.amazon.com/images/P/9643112136.0...</td>\n",
              "      <td>http://images.amazon.com/images/P/9643112136.0...</td>\n",
              "    </tr>\n",
              "    <tr>\n",
              "      <th>253750</th>\n",
              "      <td>964442011X</td>\n",
              "      <td>Tasht-i khun</td>\n",
              "      <td>Ismaยฐil Fasih</td>\n",
              "      <td>1997</td>\n",
              "      <td>Nashr-i Alburz</td>\n",
              "      <td>http://images.amazon.com/images/P/964442011X.0...</td>\n",
              "      <td>http://images.amazon.com/images/P/964442011X.0...</td>\n",
              "      <td>http://images.amazon.com/images/P/964442011X.0...</td>\n",
              "    </tr>\n",
              "  </tbody>\n",
              "</table>\n",
              "</div>"
            ],
            "text/plain": [
              "              ISBN                        Book-Title     Book-Author  \\\n",
              "227531  9643112136  Dalan-i bihisht (Dastan-i Irani)     Nazi Safavi   \n",
              "253750  964442011X                      Tasht-i khun  Ismaยฐil Fasih   \n",
              "\n",
              "        Year-Of-Publication            Publisher  \\\n",
              "227531                 1999  Intisharat-i Quqnus   \n",
              "253750                 1997       Nashr-i Alburz   \n",
              "\n",
              "                                              Image-URL-S  \\\n",
              "227531  http://images.amazon.com/images/P/9643112136.0...   \n",
              "253750  http://images.amazon.com/images/P/964442011X.0...   \n",
              "\n",
              "                                              Image-URL-M  \\\n",
              "227531  http://images.amazon.com/images/P/9643112136.0...   \n",
              "253750  http://images.amazon.com/images/P/964442011X.0...   \n",
              "\n",
              "                                              Image-URL-L  \n",
              "227531  http://images.amazon.com/images/P/9643112136.0...  \n",
              "253750  http://images.amazon.com/images/P/964442011X.0...  "
            ]
          },
          "execution_count": 29,
          "metadata": {},
          "output_type": "execute_result"
        }
      ],
      "source": [
        "Books_modified.loc[invalid_years.index]"
      ]
    },
    {
      "cell_type": "code",
      "execution_count": 30,
      "metadata": {},
      "outputs": [
        {
          "data": {
            "text/html": [
              "<div>\n",
              "<style scoped>\n",
              "    .dataframe tbody tr th:only-of-type {\n",
              "        vertical-align: middle;\n",
              "    }\n",
              "\n",
              "    .dataframe tbody tr th {\n",
              "        vertical-align: top;\n",
              "    }\n",
              "\n",
              "    .dataframe thead th {\n",
              "        text-align: right;\n",
              "    }\n",
              "</style>\n",
              "<table border=\"1\" class=\"dataframe\">\n",
              "  <thead>\n",
              "    <tr style=\"text-align: right;\">\n",
              "      <th></th>\n",
              "      <th>ISBN</th>\n",
              "      <th>Book-Title</th>\n",
              "      <th>Book-Author</th>\n",
              "      <th>Year-Of-Publication</th>\n",
              "      <th>Publisher</th>\n",
              "      <th>Image-URL-S</th>\n",
              "      <th>Image-URL-M</th>\n",
              "      <th>Image-URL-L</th>\n",
              "    </tr>\n",
              "  </thead>\n",
              "  <tbody>\n",
              "    <tr>\n",
              "      <th>37487</th>\n",
              "      <td>671746103</td>\n",
              "      <td>MY TEACHER FRIED MY BRAINS (RACK SIZE) (MY TEA...</td>\n",
              "      <td>Coville</td>\n",
              "      <td>1991</td>\n",
              "      <td>Aladdin</td>\n",
              "      <td>http://images.amazon.com/images/P/0671746103.0...</td>\n",
              "      <td>http://images.amazon.com/images/P/0671746103.0...</td>\n",
              "      <td>http://images.amazon.com/images/P/0671746103.0...</td>\n",
              "    </tr>\n",
              "    <tr>\n",
              "      <th>55676</th>\n",
              "      <td>671791990</td>\n",
              "      <td>MY TEACHER FLUNKED THE PLANET (RACK SIZE) (MY ...</td>\n",
              "      <td>Bruce Coville</td>\n",
              "      <td>1992</td>\n",
              "      <td>Aladdin</td>\n",
              "      <td>http://images.amazon.com/images/P/0671791990.0...</td>\n",
              "      <td>http://images.amazon.com/images/P/0671791990.0...</td>\n",
              "      <td>http://images.amazon.com/images/P/0671791990.0...</td>\n",
              "    </tr>\n",
              "    <tr>\n",
              "      <th>78168</th>\n",
              "      <td>870449842</td>\n",
              "      <td>Crossing America</td>\n",
              "      <td>National Geographic Society</td>\n",
              "      <td>1994</td>\n",
              "      <td>National Geographic</td>\n",
              "      <td>http://images.amazon.com/images/P/0870449842.0...</td>\n",
              "      <td>http://images.amazon.com/images/P/0870449842.0...</td>\n",
              "      <td>http://images.amazon.com/images/P/0870449842.0...</td>\n",
              "    </tr>\n",
              "    <tr>\n",
              "      <th>80264</th>\n",
              "      <td>140301690</td>\n",
              "      <td>Alice's Adventures in Wonderland and Through t...</td>\n",
              "      <td>Lewis Carroll</td>\n",
              "      <td>1977</td>\n",
              "      <td>Puffin Books</td>\n",
              "      <td>http://images.amazon.com/images/P/0140301690.0...</td>\n",
              "      <td>http://images.amazon.com/images/P/0140301690.0...</td>\n",
              "      <td>http://images.amazon.com/images/P/0140301690.0...</td>\n",
              "    </tr>\n",
              "    <tr>\n",
              "      <th>97826</th>\n",
              "      <td>140201092</td>\n",
              "      <td>Outline of European Architecture (Pelican S.)</td>\n",
              "      <td>Nikolaus Pevsner</td>\n",
              "      <td>1942</td>\n",
              "      <td>Penguin USA</td>\n",
              "      <td>http://images.amazon.com/images/P/0140201092.0...</td>\n",
              "      <td>http://images.amazon.com/images/P/0140201092.0...</td>\n",
              "      <td>http://images.amazon.com/images/P/0140201092.0...</td>\n",
              "    </tr>\n",
              "    <tr>\n",
              "      <th>116053</th>\n",
              "      <td>394701658</td>\n",
              "      <td>Three Plays of Eugene Oneill</td>\n",
              "      <td>Eugene O'Neill</td>\n",
              "      <td>1952</td>\n",
              "      <td>Vintage Books USA</td>\n",
              "      <td>http://images.amazon.com/images/P/0394701658.0...</td>\n",
              "      <td>http://images.amazon.com/images/P/0394701658.0...</td>\n",
              "      <td>http://images.amazon.com/images/P/0394701658.0...</td>\n",
              "    </tr>\n",
              "    <tr>\n",
              "      <th>118294</th>\n",
              "      <td>3442436893</td>\n",
              "      <td>Das groร?ย?e Bร?ยถse- Mร?ยคdchen- Lesebuch.</td>\n",
              "      <td>Kathy Lette</td>\n",
              "      <td>2006</td>\n",
              "      <td>Goldmann</td>\n",
              "      <td>http://images.amazon.com/images/P/3442436893.0...</td>\n",
              "      <td>http://images.amazon.com/images/P/3442436893.0...</td>\n",
              "      <td>http://images.amazon.com/images/P/3442436893.0...</td>\n",
              "    </tr>\n",
              "    <tr>\n",
              "      <th>192993</th>\n",
              "      <td>870446924</td>\n",
              "      <td>Field Guide to the Birds of North America, 3rd...</td>\n",
              "      <td>National Geographic Society</td>\n",
              "      <td>1999</td>\n",
              "      <td>National Geographic</td>\n",
              "      <td>http://images.amazon.com/images/P/0870446924.0...</td>\n",
              "      <td>http://images.amazon.com/images/P/0870446924.0...</td>\n",
              "      <td>http://images.amazon.com/images/P/0870446924.0...</td>\n",
              "    </tr>\n",
              "    <tr>\n",
              "      <th>228173</th>\n",
              "      <td>671266500</td>\n",
              "      <td>FOREST PEOPLE (Touchstone Books (Hardcover))</td>\n",
              "      <td>Colin M. Turnbull</td>\n",
              "      <td>1961</td>\n",
              "      <td>Simon &amp;amp; Schuster</td>\n",
              "      <td>http://images.amazon.com/images/P/0671266500.0...</td>\n",
              "      <td>http://images.amazon.com/images/P/0671266500.0...</td>\n",
              "      <td>http://images.amazon.com/images/P/0671266500.0...</td>\n",
              "    </tr>\n",
              "    <tr>\n",
              "      <th>240169</th>\n",
              "      <td>684718022</td>\n",
              "      <td>In Our Time: Stories (Scribner Classic)</td>\n",
              "      <td>Ernest Hemingway</td>\n",
              "      <td>1925</td>\n",
              "      <td>Collier Books</td>\n",
              "      <td>http://images.amazon.com/images/P/0684718022.0...</td>\n",
              "      <td>http://images.amazon.com/images/P/0684718022.0...</td>\n",
              "      <td>http://images.amazon.com/images/P/0684718022.0...</td>\n",
              "    </tr>\n",
              "    <tr>\n",
              "      <th>255409</th>\n",
              "      <td>068471809X</td>\n",
              "      <td>To Have and Have Not</td>\n",
              "      <td>Ernest Hemingway</td>\n",
              "      <td>1937</td>\n",
              "      <td>Simon &amp;amp; Schuster</td>\n",
              "      <td>http://images.amazon.com/images/P/068471809X.0...</td>\n",
              "      <td>http://images.amazon.com/images/P/068471809X.0...</td>\n",
              "      <td>http://images.amazon.com/images/P/068471809X.0...</td>\n",
              "    </tr>\n",
              "    <tr>\n",
              "      <th>260974</th>\n",
              "      <td>671740989</td>\n",
              "      <td>FOOTBALL SUPER TEAMS : FOOTBALL SUPER TEAMS</td>\n",
              "      <td>Bill Gutman</td>\n",
              "      <td>1991</td>\n",
              "      <td>Simon &amp;amp; Schuster Children's Publishing</td>\n",
              "      <td>http://images.amazon.com/images/P/0671740989.0...</td>\n",
              "      <td>http://images.amazon.com/images/P/0671740989.0...</td>\n",
              "      <td>http://images.amazon.com/images/P/0671740989.0...</td>\n",
              "    </tr>\n",
              "  </tbody>\n",
              "</table>\n",
              "</div>"
            ],
            "text/plain": [
              "              ISBN                                         Book-Title  \\\n",
              "37487    671746103  MY TEACHER FRIED MY BRAINS (RACK SIZE) (MY TEA...   \n",
              "55676    671791990  MY TEACHER FLUNKED THE PLANET (RACK SIZE) (MY ...   \n",
              "78168    870449842                                   Crossing America   \n",
              "80264    140301690  Alice's Adventures in Wonderland and Through t...   \n",
              "97826    140201092      Outline of European Architecture (Pelican S.)   \n",
              "116053   394701658                       Three Plays of Eugene Oneill   \n",
              "118294  3442436893        Das groร?ย?e Bร?ยถse- Mร?ยคdchen- Lesebuch.   \n",
              "192993   870446924  Field Guide to the Birds of North America, 3rd...   \n",
              "228173   671266500       FOREST PEOPLE (Touchstone Books (Hardcover))   \n",
              "240169   684718022            In Our Time: Stories (Scribner Classic)   \n",
              "255409  068471809X                               To Have and Have Not   \n",
              "260974   671740989        FOOTBALL SUPER TEAMS : FOOTBALL SUPER TEAMS   \n",
              "\n",
              "                        Book-Author  Year-Of-Publication  \\\n",
              "37487                       Coville                 1991   \n",
              "55676                 Bruce Coville                 1992   \n",
              "78168   National Geographic Society                 1994   \n",
              "80264                 Lewis Carroll                 1977   \n",
              "97826              Nikolaus Pevsner                 1942   \n",
              "116053               Eugene O'Neill                 1952   \n",
              "118294                  Kathy Lette                 2006   \n",
              "192993  National Geographic Society                 1999   \n",
              "228173            Colin M. Turnbull                 1961   \n",
              "240169             Ernest Hemingway                 1925   \n",
              "255409             Ernest Hemingway                 1937   \n",
              "260974                  Bill Gutman                 1991   \n",
              "\n",
              "                                         Publisher  \\\n",
              "37487                                      Aladdin   \n",
              "55676                                      Aladdin   \n",
              "78168                          National Geographic   \n",
              "80264                                 Puffin Books   \n",
              "97826                                  Penguin USA   \n",
              "116053                           Vintage Books USA   \n",
              "118294                                    Goldmann   \n",
              "192993                         National Geographic   \n",
              "228173                        Simon &amp; Schuster   \n",
              "240169                               Collier Books   \n",
              "255409                        Simon &amp; Schuster   \n",
              "260974  Simon &amp; Schuster Children's Publishing   \n",
              "\n",
              "                                              Image-URL-S  \\\n",
              "37487   http://images.amazon.com/images/P/0671746103.0...   \n",
              "55676   http://images.amazon.com/images/P/0671791990.0...   \n",
              "78168   http://images.amazon.com/images/P/0870449842.0...   \n",
              "80264   http://images.amazon.com/images/P/0140301690.0...   \n",
              "97826   http://images.amazon.com/images/P/0140201092.0...   \n",
              "116053  http://images.amazon.com/images/P/0394701658.0...   \n",
              "118294  http://images.amazon.com/images/P/3442436893.0...   \n",
              "192993  http://images.amazon.com/images/P/0870446924.0...   \n",
              "228173  http://images.amazon.com/images/P/0671266500.0...   \n",
              "240169  http://images.amazon.com/images/P/0684718022.0...   \n",
              "255409  http://images.amazon.com/images/P/068471809X.0...   \n",
              "260974  http://images.amazon.com/images/P/0671740989.0...   \n",
              "\n",
              "                                              Image-URL-M  \\\n",
              "37487   http://images.amazon.com/images/P/0671746103.0...   \n",
              "55676   http://images.amazon.com/images/P/0671791990.0...   \n",
              "78168   http://images.amazon.com/images/P/0870449842.0...   \n",
              "80264   http://images.amazon.com/images/P/0140301690.0...   \n",
              "97826   http://images.amazon.com/images/P/0140201092.0...   \n",
              "116053  http://images.amazon.com/images/P/0394701658.0...   \n",
              "118294  http://images.amazon.com/images/P/3442436893.0...   \n",
              "192993  http://images.amazon.com/images/P/0870446924.0...   \n",
              "228173  http://images.amazon.com/images/P/0671266500.0...   \n",
              "240169  http://images.amazon.com/images/P/0684718022.0...   \n",
              "255409  http://images.amazon.com/images/P/068471809X.0...   \n",
              "260974  http://images.amazon.com/images/P/0671740989.0...   \n",
              "\n",
              "                                              Image-URL-L  \n",
              "37487   http://images.amazon.com/images/P/0671746103.0...  \n",
              "55676   http://images.amazon.com/images/P/0671791990.0...  \n",
              "78168   http://images.amazon.com/images/P/0870449842.0...  \n",
              "80264   http://images.amazon.com/images/P/0140301690.0...  \n",
              "97826   http://images.amazon.com/images/P/0140201092.0...  \n",
              "116053  http://images.amazon.com/images/P/0394701658.0...  \n",
              "118294  http://images.amazon.com/images/P/3442436893.0...  \n",
              "192993  http://images.amazon.com/images/P/0870446924.0...  \n",
              "228173  http://images.amazon.com/images/P/0671266500.0...  \n",
              "240169  http://images.amazon.com/images/P/0684718022.0...  \n",
              "255409  http://images.amazon.com/images/P/068471809X.0...  \n",
              "260974  http://images.amazon.com/images/P/0671740989.0...  "
            ]
          },
          "execution_count": 30,
          "metadata": {},
          "output_type": "execute_result"
        }
      ],
      "source": [
        "Books_modified.loc[invalid_years11.index]"
      ]
    },
    {
      "cell_type": "code",
      "execution_count": 31,
      "metadata": {
        "id": "4zPFhVaPNWdp"
      },
      "outputs": [],
      "source": [
        "# so now i am just creating a copy of the modified dataset\n",
        "Books_modified_copy=Books_modified.copy()"
      ]
    },
    {
      "cell_type": "code",
      "execution_count": 32,
      "metadata": {
        "id": "NZQevOS2NWdp",
        "outputId": "54b64a0d-230c-458d-8fc8-2fc73b912a74"
      },
      "outputs": [
        {
          "name": "stderr",
          "output_type": "stream",
          "text": [
            "[nltk_data] Downloading package stopwords to\n",
            "[nltk_data]     C:\\Users\\soni\\AppData\\Roaming\\nltk_data...\n",
            "[nltk_data]   Package stopwords is already up-to-date!\n"
          ]
        }
      ],
      "source": [
        "# here i am importing the extra stop words and also i want to remove the data like 3rd 4th etc\n",
        "import nltk\n",
        "nltk.download('stopwords')\n",
        "nlp = spacy.load(\"en_core_web_sm\", disable=[\"parser\", \"ner\"])\n",
        "extra_stopwords = set(word.lower() for word in stopwords.words('english'))\n",
        "spacy_stopwords = set(nlp.Defaults.stop_words)\n",
        "all_stopwords = extra_stopwords.union(spacy_stopwords)\n",
        "pattern = re.compile(r'^\\d+(st|nd|rd|th)?$', re.IGNORECASE)"
      ]
    },
    {
      "cell_type": "code",
      "execution_count": 33,
      "metadata": {
        "id": "NjeUgl2-NWdp"
      },
      "outputs": [],
      "source": [
        "# This function removes the stop words\n",
        "def stop_words_fun(texts,batch_size=5000):\n",
        "  if isinstance(texts, str):\n",
        "    texts = [texts]\n",
        "  cleaned_texts = []\n",
        "  for doc in nlp.pipe([str(text) for text in texts], batch_size=batch_size):\n",
        "      cleaned_text = [\n",
        "          token.text for token in doc\n",
        "          if token.text.lower() not in all_stopwords\n",
        "          and not token.is_punct\n",
        "          and not token.is_digit\n",
        "          and not pattern.match(token.text.lower())\n",
        "        ]\n",
        "      cleaned_texts.append(\" \".join(cleaned_text))\n",
        "  return cleaned_texts if len(cleaned_texts) > 1 else cleaned_texts[0]"
      ]
    },
    {
      "cell_type": "code",
      "execution_count": 34,
      "metadata": {
        "id": "HEajbK6pNWdp",
        "outputId": "8bcca8f7-d948-4ce2-9f49-a0ed2451eda0"
      },
      "outputs": [
        {
          "name": "stdout",
          "output_type": "stream",
          "text": [
            "Before removing the stop words:\n",
            " Flu: The Story of the Great Influenza Pandemic of 1918 and the Search for the Virus That Caused It\n",
            "After removing the stop words:\n",
            " Flu Story Great Influenza Pandemic Search Virus Caused\n"
          ]
        }
      ],
      "source": [
        "print('Before removing the stop words:\\n',Books_modified['Book-Title'].iloc[3])\n",
        "print('After removing the stop words:\\n',stop_words_fun(Books_modified['Book-Title'].iloc[3]))"
      ]
    },
    {
      "cell_type": "markdown",
      "metadata": {
        "id": "rpPMVZ7zPU1b"
      },
      "source": [
        "\n",
        "\n",
        "*   imported the stop words and also there are alot of patterns like this 4th so i dont want them also. i created a function  that will remove all the stop words from the data set\n"
      ]
    },
    {
      "cell_type": "code",
      "execution_count": 35,
      "metadata": {
        "id": "HIjy1PfMNWdq"
      },
      "outputs": [],
      "source": [
        "# make sure that the data is in string format\n",
        "Books_modified_copy['Book-Title'] = Books_modified_copy['Book-Title'].astype(str)\n",
        "Books_modified_copy['Book-Author'] = Books_modified_copy['Book-Author'].astype(str)\n",
        "Books_modified_copy['Publisher'] = Books_modified_copy['Publisher'].astype(str)"
      ]
    },
    {
      "cell_type": "code",
      "execution_count": 36,
      "metadata": {
        "id": "7tM0skboNWdq"
      },
      "outputs": [],
      "source": [
        "# calling the function to remove the stop words and storing the data in the same column\n",
        "Books_modified_copy['Book-Title']=stop_words_fun(Books_modified_copy['Book-Title'])\n",
        "Books_modified_copy['Book-Author']=stop_words_fun(Books_modified_copy['Book-Author'])\n",
        "Books_modified_copy['Publisher']=stop_words_fun(Books_modified_copy['Publisher'])"
      ]
    },
    {
      "cell_type": "code",
      "execution_count": 37,
      "metadata": {
        "id": "eC1_H7zmNWdq"
      },
      "outputs": [],
      "source": [
        "# Lets create a function which categorize the Year of Publication feature to a different categorizes\n",
        "def categeries_year(year):\n",
        "    if year < 1900:\n",
        "        return 'eighteen'\n",
        "    elif year >=1900 and year <=1925:\n",
        "        return 'nineteenone'\n",
        "    elif year >1925 and year <=1950:\n",
        "        return 'nineteentwo'\n",
        "    elif year >1950 and year <=1975:\n",
        "        return 'nineteenthree'\n",
        "    elif year >1975 and year <2000:\n",
        "        return 'nineteenfour'\n",
        "    else:\n",
        "        return 'twentiesone'"
      ]
    },
    {
      "cell_type": "markdown",
      "metadata": {
        "id": "pZ3VEQjOP4Lo"
      },
      "source": [
        "\n",
        "\n",
        "*   Created a function that will return the year data into the certain names so that we can use this data in content based filter.\n",
        "\n",
        "*   For every 25 year i categeried them i will helps later.\n"
      ]
    },
    {
      "cell_type": "code",
      "execution_count": 38,
      "metadata": {
        "id": "qg2PBX11NWdq"
      },
      "outputs": [],
      "source": [
        "Books_modified_copy['Year-Of-Publication-categorizes']=Books_modified_copy['Year-Of-Publication'].apply(categeries_year)"
      ]
    },
    {
      "cell_type": "code",
      "execution_count": 39,
      "metadata": {
        "id": "TSsRQF-dNWdq",
        "outputId": "867b663d-7134-42ae-8b3b-c5230a693204"
      },
      "outputs": [
        {
          "data": {
            "text/html": [
              "<div>\n",
              "<style scoped>\n",
              "    .dataframe tbody tr th:only-of-type {\n",
              "        vertical-align: middle;\n",
              "    }\n",
              "\n",
              "    .dataframe tbody tr th {\n",
              "        vertical-align: top;\n",
              "    }\n",
              "\n",
              "    .dataframe thead th {\n",
              "        text-align: right;\n",
              "    }\n",
              "</style>\n",
              "<table border=\"1\" class=\"dataframe\">\n",
              "  <thead>\n",
              "    <tr style=\"text-align: right;\">\n",
              "      <th></th>\n",
              "      <th>ISBN</th>\n",
              "      <th>Book-Title</th>\n",
              "      <th>Book-Author</th>\n",
              "      <th>Year-Of-Publication</th>\n",
              "      <th>Publisher</th>\n",
              "      <th>Image-URL-S</th>\n",
              "      <th>Image-URL-M</th>\n",
              "      <th>Image-URL-L</th>\n",
              "    </tr>\n",
              "  </thead>\n",
              "  <tbody>\n",
              "    <tr>\n",
              "      <th>0</th>\n",
              "      <td>195153448</td>\n",
              "      <td>Classical Mythology</td>\n",
              "      <td>Mark P. O. Morford</td>\n",
              "      <td>2002</td>\n",
              "      <td>Oxford University Press</td>\n",
              "      <td>http://images.amazon.com/images/P/0195153448.0...</td>\n",
              "      <td>http://images.amazon.com/images/P/0195153448.0...</td>\n",
              "      <td>http://images.amazon.com/images/P/0195153448.0...</td>\n",
              "    </tr>\n",
              "    <tr>\n",
              "      <th>1</th>\n",
              "      <td>2005018</td>\n",
              "      <td>Clara Callan</td>\n",
              "      <td>Richard Bruce Wright</td>\n",
              "      <td>2001</td>\n",
              "      <td>HarperFlamingo Canada</td>\n",
              "      <td>http://images.amazon.com/images/P/0002005018.0...</td>\n",
              "      <td>http://images.amazon.com/images/P/0002005018.0...</td>\n",
              "      <td>http://images.amazon.com/images/P/0002005018.0...</td>\n",
              "    </tr>\n",
              "    <tr>\n",
              "      <th>2</th>\n",
              "      <td>60973129</td>\n",
              "      <td>Decision in Normandy</td>\n",
              "      <td>Carlo D'Este</td>\n",
              "      <td>1991</td>\n",
              "      <td>HarperPerennial</td>\n",
              "      <td>http://images.amazon.com/images/P/0060973129.0...</td>\n",
              "      <td>http://images.amazon.com/images/P/0060973129.0...</td>\n",
              "      <td>http://images.amazon.com/images/P/0060973129.0...</td>\n",
              "    </tr>\n",
              "    <tr>\n",
              "      <th>3</th>\n",
              "      <td>374157065</td>\n",
              "      <td>Flu: The Story of the Great Influenza Pandemic...</td>\n",
              "      <td>Gina Bari Kolata</td>\n",
              "      <td>1999</td>\n",
              "      <td>Farrar Straus Giroux</td>\n",
              "      <td>http://images.amazon.com/images/P/0374157065.0...</td>\n",
              "      <td>http://images.amazon.com/images/P/0374157065.0...</td>\n",
              "      <td>http://images.amazon.com/images/P/0374157065.0...</td>\n",
              "    </tr>\n",
              "    <tr>\n",
              "      <th>4</th>\n",
              "      <td>393045218</td>\n",
              "      <td>The Mummies of Urumchi</td>\n",
              "      <td>E. J. W. Barber</td>\n",
              "      <td>1999</td>\n",
              "      <td>W. W. Norton &amp;amp; Company</td>\n",
              "      <td>http://images.amazon.com/images/P/0393045218.0...</td>\n",
              "      <td>http://images.amazon.com/images/P/0393045218.0...</td>\n",
              "      <td>http://images.amazon.com/images/P/0393045218.0...</td>\n",
              "    </tr>\n",
              "  </tbody>\n",
              "</table>\n",
              "</div>"
            ],
            "text/plain": [
              "        ISBN                                         Book-Title  \\\n",
              "0  195153448                                Classical Mythology   \n",
              "1    2005018                                       Clara Callan   \n",
              "2   60973129                               Decision in Normandy   \n",
              "3  374157065  Flu: The Story of the Great Influenza Pandemic...   \n",
              "4  393045218                             The Mummies of Urumchi   \n",
              "\n",
              "            Book-Author  Year-Of-Publication                   Publisher  \\\n",
              "0    Mark P. O. Morford                 2002     Oxford University Press   \n",
              "1  Richard Bruce Wright                 2001       HarperFlamingo Canada   \n",
              "2          Carlo D'Este                 1991             HarperPerennial   \n",
              "3      Gina Bari Kolata                 1999        Farrar Straus Giroux   \n",
              "4       E. J. W. Barber                 1999  W. W. Norton &amp; Company   \n",
              "\n",
              "                                         Image-URL-S  \\\n",
              "0  http://images.amazon.com/images/P/0195153448.0...   \n",
              "1  http://images.amazon.com/images/P/0002005018.0...   \n",
              "2  http://images.amazon.com/images/P/0060973129.0...   \n",
              "3  http://images.amazon.com/images/P/0374157065.0...   \n",
              "4  http://images.amazon.com/images/P/0393045218.0...   \n",
              "\n",
              "                                         Image-URL-M  \\\n",
              "0  http://images.amazon.com/images/P/0195153448.0...   \n",
              "1  http://images.amazon.com/images/P/0002005018.0...   \n",
              "2  http://images.amazon.com/images/P/0060973129.0...   \n",
              "3  http://images.amazon.com/images/P/0374157065.0...   \n",
              "4  http://images.amazon.com/images/P/0393045218.0...   \n",
              "\n",
              "                                         Image-URL-L  \n",
              "0  http://images.amazon.com/images/P/0195153448.0...  \n",
              "1  http://images.amazon.com/images/P/0002005018.0...  \n",
              "2  http://images.amazon.com/images/P/0060973129.0...  \n",
              "3  http://images.amazon.com/images/P/0374157065.0...  \n",
              "4  http://images.amazon.com/images/P/0393045218.0...  "
            ]
          },
          "execution_count": 39,
          "metadata": {},
          "output_type": "execute_result"
        }
      ],
      "source": [
        "# This data set contains the stop words so that we can retrive this data set when we are recommending the books based on the isbn code\n",
        "Books_modified.head(5)"
      ]
    },
    {
      "cell_type": "code",
      "execution_count": 40,
      "metadata": {
        "id": "zUAK219yNWdq"
      },
      "outputs": [],
      "source": [
        "#User dataset modification"
      ]
    },
    {
      "cell_type": "code",
      "execution_count": 41,
      "metadata": {
        "id": "HsD0ILzPNWdz",
        "outputId": "31140bb7-8cb5-4e53-92ec-3a3c85e6851c"
      },
      "outputs": [
        {
          "name": "stdout",
          "output_type": "stream",
          "text": [
            "<class 'pandas.core.frame.DataFrame'>\n",
            "RangeIndex: 278858 entries, 0 to 278857\n",
            "Data columns (total 3 columns):\n",
            " #   Column    Non-Null Count   Dtype  \n",
            "---  ------    --------------   -----  \n",
            " 0   User-ID   278858 non-null  int64  \n",
            " 1   Location  278858 non-null  object \n",
            " 2   Age       278858 non-null  float64\n",
            "dtypes: float64(1), int64(1), object(1)\n",
            "memory usage: 6.4+ MB\n"
          ]
        }
      ],
      "source": [
        "Users_modified.info()"
      ]
    },
    {
      "cell_type": "code",
      "execution_count": 42,
      "metadata": {
        "id": "1bSVkGf7NWdz",
        "outputId": "8bfeb0b2-242d-4de4-e2ec-4eb76702eabc"
      },
      "outputs": [
        {
          "data": {
            "text/html": [
              "<div>\n",
              "<style scoped>\n",
              "    .dataframe tbody tr th:only-of-type {\n",
              "        vertical-align: middle;\n",
              "    }\n",
              "\n",
              "    .dataframe tbody tr th {\n",
              "        vertical-align: top;\n",
              "    }\n",
              "\n",
              "    .dataframe thead th {\n",
              "        text-align: right;\n",
              "    }\n",
              "</style>\n",
              "<table border=\"1\" class=\"dataframe\">\n",
              "  <thead>\n",
              "    <tr style=\"text-align: right;\">\n",
              "      <th></th>\n",
              "      <th>User-ID</th>\n",
              "      <th>Location</th>\n",
              "      <th>Age</th>\n",
              "    </tr>\n",
              "  </thead>\n",
              "  <tbody>\n",
              "    <tr>\n",
              "      <th>0</th>\n",
              "      <td>1</td>\n",
              "      <td>nyc, new york, usa</td>\n",
              "      <td>33.61</td>\n",
              "    </tr>\n",
              "    <tr>\n",
              "      <th>1</th>\n",
              "      <td>2</td>\n",
              "      <td>stockton, california, usa</td>\n",
              "      <td>18.00</td>\n",
              "    </tr>\n",
              "    <tr>\n",
              "      <th>2</th>\n",
              "      <td>3</td>\n",
              "      <td>moscow, yukon territory, russia</td>\n",
              "      <td>22.85</td>\n",
              "    </tr>\n",
              "    <tr>\n",
              "      <th>3</th>\n",
              "      <td>4</td>\n",
              "      <td>porto, v.n.gaia, portugal</td>\n",
              "      <td>17.00</td>\n",
              "    </tr>\n",
              "    <tr>\n",
              "      <th>4</th>\n",
              "      <td>5</td>\n",
              "      <td>farnborough, hants, united kingdom</td>\n",
              "      <td>37.17</td>\n",
              "    </tr>\n",
              "  </tbody>\n",
              "</table>\n",
              "</div>"
            ],
            "text/plain": [
              "   User-ID                            Location    Age\n",
              "0        1                  nyc, new york, usa  33.61\n",
              "1        2           stockton, california, usa  18.00\n",
              "2        3     moscow, yukon territory, russia  22.85\n",
              "3        4           porto, v.n.gaia, portugal  17.00\n",
              "4        5  farnborough, hants, united kingdom  37.17"
            ]
          },
          "execution_count": 42,
          "metadata": {},
          "output_type": "execute_result"
        }
      ],
      "source": [
        "Users_modified.head()"
      ]
    },
    {
      "cell_type": "code",
      "execution_count": 43,
      "metadata": {
        "id": "zyyJRd7nNWdz"
      },
      "outputs": [],
      "source": [
        "# this will split the location into city,state and country\n",
        "location=[loc.split(',')[:3] for loc in Users_modified['Location'].tolist()]\n",
        "location_data=pd.DataFrame(location,columns=['City','State_or_Region','Country'])\n",
        "Users_modified1=pd.concat([Users_modified,location_data],axis=1)\n",
        "Users_modified1.drop('Location',axis=1,inplace=True)\n",
        "Users_modified1=Users_modified1.reindex(columns=['User-ID','City','State_or_Region','Country','Age'])"
      ]
    },
    {
      "cell_type": "code",
      "execution_count": 44,
      "metadata": {
        "id": "yeAccmzrNWdz",
        "outputId": "d4704ed0-8bef-4698-942e-e0fe609c98b0"
      },
      "outputs": [
        {
          "name": "stdout",
          "output_type": "stream",
          "text": [
            "User-ID               0\n",
            "City                439\n",
            "State_or_Region    3620\n",
            "Country              16\n",
            "Age                   0\n",
            "dtype: int64\n"
          ]
        }
      ],
      "source": [
        "# this will replace the n/a,NA and space with NA\n",
        "Users_modified1['State_or_Region'].replace(['n/a','NA',' '],pd.NA,inplace=True)\n",
        "Users_modified1['Country'].replace(['n/a','NA',' '],pd.NA,inplace=True)\n",
        "Users_modified1['City'].replace(['n/a','NA',' '],pd.NA,inplace=True)\n",
        "print(Users_modified1.isna().sum())"
      ]
    },
    {
      "cell_type": "code",
      "execution_count": 45,
      "metadata": {
        "id": "_g2UiwWPNWdz"
      },
      "outputs": [],
      "source": [
        "# this city feature should not contain the null values so i am filling the null values with ffill method\n",
        "Users_modified1['City'].fillna(method='ffill', inplace=True)"
      ]
    },
    {
      "cell_type": "code",
      "execution_count": 46,
      "metadata": {
        "id": "D8hOtONxNWdz"
      },
      "outputs": [],
      "source": [
        "# converting to string type\n",
        "Users_modified1['State_or_Region'] = Users_modified1['State_or_Region'].astype(str)\n",
        "Users_modified1['Country']= Users_modified1['Country'].astype(str)"
      ]
    },
    {
      "cell_type": "code",
      "execution_count": 47,
      "metadata": {
        "id": "owXpGZZ8NWdz"
      },
      "outputs": [],
      "source": [
        "# using groupby and mapping method to fill the missing values\n",
        "city_to_state_or_region=Users_modified1.groupby('City')['State_or_Region'].agg(lambda x:x.mode()[0])\n",
        "city_to_country=Users_modified1.groupby('City')['Country'].agg(lambda x:x.mode()[0])\n",
        "Users_modified1['State_or_Region'].fillna(Users_modified1['City'].map(city_to_state_or_region),inplace=True)\n",
        "Users_modified1['Country'].fillna(Users_modified1['City'].map(city_to_country),inplace=True)\n",
        "\n",
        "# replacing the <NA> values with pd.NA\n",
        "Users_modified1['Country'].replace('<NA>',pd.NA,inplace=True)\n",
        "Users_modified1['State_or_Region'].replace('<NA>',pd.NA,inplace=True)\n",
        "\n",
        "# using ffill method to fill the missing values if still there are any\n",
        "Users_modified1['State_or_Region'].fillna(method='ffill', inplace=True)\n",
        "Users_modified1['Country'].fillna(method='ffill', inplace=True)"
      ]
    },
    {
      "cell_type": "code",
      "execution_count": 48,
      "metadata": {
        "id": "7iF-kZvFNWd0"
      },
      "outputs": [],
      "source": [
        "# Converting the Age column to int datatype\n",
        "Users_modified1['Age']=Users_modified1['Age'].astype(int)"
      ]
    },
    {
      "cell_type": "code",
      "execution_count": 49,
      "metadata": {
        "id": "2RU_J7SgNWd0"
      },
      "outputs": [],
      "source": [
        "# this function will categorize the age into different categories\n",
        "def categeries_ages(age):\n",
        "    if age < 20:\n",
        "        return 'Teenager'\n",
        "    elif age >=20 and age <=36:\n",
        "        return 'Young'\n",
        "    elif age >36 and age <=55:\n",
        "        return 'Middle'\n",
        "    else:\n",
        "        return 'senior'"
      ]
    },
    {
      "cell_type": "code",
      "execution_count": 50,
      "metadata": {
        "id": "Vzyv34yuNWd0"
      },
      "outputs": [],
      "source": [
        "# calling the function and storing the data in a new column\n",
        "Users_modified1['Age_category']=Users_modified1['Age'].apply(categeries_ages)"
      ]
    },
    {
      "cell_type": "code",
      "execution_count": 51,
      "metadata": {
        "id": "XKfQWZkGNWd0",
        "outputId": "c3e323ba-ce7f-4a9e-a0cd-29550289b8bd"
      },
      "outputs": [
        {
          "data": {
            "text/html": [
              "<div>\n",
              "<style scoped>\n",
              "    .dataframe tbody tr th:only-of-type {\n",
              "        vertical-align: middle;\n",
              "    }\n",
              "\n",
              "    .dataframe tbody tr th {\n",
              "        vertical-align: top;\n",
              "    }\n",
              "\n",
              "    .dataframe thead th {\n",
              "        text-align: right;\n",
              "    }\n",
              "</style>\n",
              "<table border=\"1\" class=\"dataframe\">\n",
              "  <thead>\n",
              "    <tr style=\"text-align: right;\">\n",
              "      <th></th>\n",
              "      <th>User-ID</th>\n",
              "      <th>City</th>\n",
              "      <th>State_or_Region</th>\n",
              "      <th>Country</th>\n",
              "      <th>Age</th>\n",
              "      <th>Age_category</th>\n",
              "    </tr>\n",
              "  </thead>\n",
              "  <tbody>\n",
              "    <tr>\n",
              "      <th>0</th>\n",
              "      <td>1</td>\n",
              "      <td>nyc</td>\n",
              "      <td>new york</td>\n",
              "      <td>usa</td>\n",
              "      <td>33</td>\n",
              "      <td>Young</td>\n",
              "    </tr>\n",
              "    <tr>\n",
              "      <th>1</th>\n",
              "      <td>2</td>\n",
              "      <td>stockton</td>\n",
              "      <td>california</td>\n",
              "      <td>usa</td>\n",
              "      <td>18</td>\n",
              "      <td>Teenager</td>\n",
              "    </tr>\n",
              "    <tr>\n",
              "      <th>2</th>\n",
              "      <td>3</td>\n",
              "      <td>moscow</td>\n",
              "      <td>yukon territory</td>\n",
              "      <td>russia</td>\n",
              "      <td>22</td>\n",
              "      <td>Young</td>\n",
              "    </tr>\n",
              "    <tr>\n",
              "      <th>3</th>\n",
              "      <td>4</td>\n",
              "      <td>porto</td>\n",
              "      <td>v.n.gaia</td>\n",
              "      <td>portugal</td>\n",
              "      <td>17</td>\n",
              "      <td>Teenager</td>\n",
              "    </tr>\n",
              "    <tr>\n",
              "      <th>4</th>\n",
              "      <td>5</td>\n",
              "      <td>farnborough</td>\n",
              "      <td>hants</td>\n",
              "      <td>united kingdom</td>\n",
              "      <td>37</td>\n",
              "      <td>Middle</td>\n",
              "    </tr>\n",
              "  </tbody>\n",
              "</table>\n",
              "</div>"
            ],
            "text/plain": [
              "   User-ID         City   State_or_Region          Country  Age Age_category\n",
              "0        1          nyc          new york              usa   33        Young\n",
              "1        2     stockton        california              usa   18     Teenager\n",
              "2        3       moscow   yukon territory           russia   22        Young\n",
              "3        4        porto          v.n.gaia         portugal   17     Teenager\n",
              "4        5  farnborough             hants   united kingdom   37       Middle"
            ]
          },
          "execution_count": 51,
          "metadata": {},
          "output_type": "execute_result"
        }
      ],
      "source": [
        "Users_modified1.head()"
      ]
    },
    {
      "cell_type": "markdown",
      "metadata": {
        "id": "GN0JqdbUQnB1"
      },
      "source": [
        "\n",
        "\n",
        "*   For user data i just supperated the location into three different parts it may helps in content based filters.\n",
        "*   I just wrote a function that categeries the ages in to four stages.\n",
        "\n"
      ]
    },
    {
      "cell_type": "code",
      "execution_count": 52,
      "metadata": {
        "id": "wZaovYLBNWd0"
      },
      "outputs": [],
      "source": [
        "#Rating data set modification"
      ]
    },
    {
      "cell_type": "code",
      "execution_count": 53,
      "metadata": {
        "id": "vkSBXx9dNWd1",
        "outputId": "416d0f61-dc5b-4266-b14a-8c4e5eb6e677"
      },
      "outputs": [
        {
          "name": "stdout",
          "output_type": "stream",
          "text": [
            "Before droping the duplicates: (1149780, 3)\n",
            "duplicates shape: (79, 3)\n",
            "After droping the duplicates: (1149735, 3)\n"
          ]
        }
      ],
      "source": [
        "# lets just check the duplicates with two columns\n",
        "duplicates=Ratings[Ratings.duplicated(subset=['User-ID','ISBN'],keep=False)]\n",
        "print('Before droping the duplicates:',Ratings.shape)\n",
        "print('duplicates shape:',duplicates.shape)\n",
        "# drop the duplicates\n",
        "Ratings=Ratings.drop_duplicates(subset=['User-ID','ISBN'],keep='first')\n",
        "print('After droping the duplicates:',Ratings.shape)"
      ]
    },
    {
      "cell_type": "markdown",
      "metadata": {
        "id": "0fCApWwwRLth"
      },
      "source": [
        "\n",
        "\n",
        "*   After few analysis what i found that there are some user that are repeated i mean duplicates its like the user and isbn combinations were repeated few time. so i am removing the only users and at the same time isbn also.\n",
        "\n"
      ]
    },
    {
      "cell_type": "code",
      "execution_count": 54,
      "metadata": {
        "id": "52QXV_j0NWd1"
      },
      "outputs": [],
      "source": [
        "Reindex_Ratings=Ratings.reset_index()"
      ]
    },
    {
      "cell_type": "code",
      "execution_count": 55,
      "metadata": {
        "id": "gAJOdsMBNWd1",
        "outputId": "f8837ce7-4bc0-4de5-9c47-1c5e3e21632e"
      },
      "outputs": [
        {
          "data": {
            "text/html": [
              "<div>\n",
              "<style scoped>\n",
              "    .dataframe tbody tr th:only-of-type {\n",
              "        vertical-align: middle;\n",
              "    }\n",
              "\n",
              "    .dataframe tbody tr th {\n",
              "        vertical-align: top;\n",
              "    }\n",
              "\n",
              "    .dataframe thead th {\n",
              "        text-align: right;\n",
              "    }\n",
              "</style>\n",
              "<table border=\"1\" class=\"dataframe\">\n",
              "  <thead>\n",
              "    <tr style=\"text-align: right;\">\n",
              "      <th></th>\n",
              "      <th>User-ID</th>\n",
              "      <th>ISBN</th>\n",
              "      <th>Book-Rating</th>\n",
              "    </tr>\n",
              "  </thead>\n",
              "  <tbody>\n",
              "    <tr>\n",
              "      <th>0</th>\n",
              "      <td>276725</td>\n",
              "      <td>034545104X</td>\n",
              "      <td>0</td>\n",
              "    </tr>\n",
              "    <tr>\n",
              "      <th>1</th>\n",
              "      <td>276726</td>\n",
              "      <td>155061224</td>\n",
              "      <td>5</td>\n",
              "    </tr>\n",
              "    <tr>\n",
              "      <th>2</th>\n",
              "      <td>276727</td>\n",
              "      <td>446520802</td>\n",
              "      <td>0</td>\n",
              "    </tr>\n",
              "    <tr>\n",
              "      <th>3</th>\n",
              "      <td>276729</td>\n",
              "      <td>052165615X</td>\n",
              "      <td>3</td>\n",
              "    </tr>\n",
              "    <tr>\n",
              "      <th>4</th>\n",
              "      <td>276729</td>\n",
              "      <td>521795028</td>\n",
              "      <td>6</td>\n",
              "    </tr>\n",
              "    <tr>\n",
              "      <th>...</th>\n",
              "      <td>...</td>\n",
              "      <td>...</td>\n",
              "      <td>...</td>\n",
              "    </tr>\n",
              "    <tr>\n",
              "      <th>1149730</th>\n",
              "      <td>276704</td>\n",
              "      <td>1563526298</td>\n",
              "      <td>9</td>\n",
              "    </tr>\n",
              "    <tr>\n",
              "      <th>1149731</th>\n",
              "      <td>276706</td>\n",
              "      <td>679447156</td>\n",
              "      <td>0</td>\n",
              "    </tr>\n",
              "    <tr>\n",
              "      <th>1149732</th>\n",
              "      <td>276709</td>\n",
              "      <td>515107662</td>\n",
              "      <td>10</td>\n",
              "    </tr>\n",
              "    <tr>\n",
              "      <th>1149733</th>\n",
              "      <td>276721</td>\n",
              "      <td>590442449</td>\n",
              "      <td>10</td>\n",
              "    </tr>\n",
              "    <tr>\n",
              "      <th>1149734</th>\n",
              "      <td>276723</td>\n",
              "      <td>5162443314</td>\n",
              "      <td>8</td>\n",
              "    </tr>\n",
              "  </tbody>\n",
              "</table>\n",
              "<p>1149735 rows × 3 columns</p>\n",
              "</div>"
            ],
            "text/plain": [
              "         User-ID        ISBN  Book-Rating\n",
              "0         276725  034545104X            0\n",
              "1         276726   155061224            5\n",
              "2         276727   446520802            0\n",
              "3         276729  052165615X            3\n",
              "4         276729   521795028            6\n",
              "...          ...         ...          ...\n",
              "1149730   276704  1563526298            9\n",
              "1149731   276706   679447156            0\n",
              "1149732   276709   515107662           10\n",
              "1149733   276721   590442449           10\n",
              "1149734   276723  5162443314            8\n",
              "\n",
              "[1149735 rows x 3 columns]"
            ]
          },
          "execution_count": 55,
          "metadata": {},
          "output_type": "execute_result"
        }
      ],
      "source": [
        "Reindex_Ratings.drop(columns='index')"
      ]
    },
    {
      "cell_type": "code",
      "execution_count": 56,
      "metadata": {
        "id": "ujQaOdBONWd1"
      },
      "outputs": [],
      "source": [
        "# Using joins we will merge the all three dataset\n",
        "# This data set contains all the columns without null values so we this data set more than the other dataset\n",
        "Inner_join=pd.merge(Ratings,Books_modified_copy,on='ISBN',how='inner')\n",
        "Inner_join_data=pd.merge(Inner_join,Users_modified1,on='User-ID',how='inner')\n"
      ]
    },
    {
      "cell_type": "code",
      "execution_count": 57,
      "metadata": {
        "id": "0B0DMtzTNWd2"
      },
      "outputs": [],
      "source": [
        "# Drop the unnecessary columns\n",
        "Required_data=Inner_join_data.drop(['Image-URL-S','Image-URL-M','Image-URL-L'],axis=1)\n",
        "# reindex the columns\n",
        "Required_data=Required_data.reindex(columns=['ISBN','Book-Title','Book-Author','Year-Of-Publication','Publisher','Year-Of-Publication-categorizes','Book-Rating','User-ID','City','State_or_Region','Country','Age','Age_category'])"
      ]
    },
    {
      "cell_type": "markdown",
      "metadata": {
        "id": "pwh9gAoVR5Yu"
      },
      "source": [
        "#**Exploratory Data Analysis**"
      ]
    },
    {
      "cell_type": "code",
      "execution_count": 60,
      "metadata": {
        "id": "7KA56jZ-NWd2"
      },
      "outputs": [],
      "source": [
        "# This function helps to visualize the data and understanding the data more\n",
        "def data_visualization(data,X_column_name,Y_column_name,Z_column_name,graph_is_about):\n",
        "  if graph_is_about == 'ratings':\n",
        "    X=data[X_column_name].unique()\n",
        "    Y=data[X_column_name].value_counts()\n",
        "    title='Number of user and their ratings on books'\n",
        "    y_axis_title='Num_of_User'\n",
        "    x_axis_title='Ratings'\n",
        "    fig=go.Figure()\n",
        "    fig.add_trace(go.Bar(x=X,y=Y.values,marker_color='skyblue'))\n",
        "    fig.update_layout(title_text=title, xaxis_title=x_axis_title,yaxis_title=y_axis_title)\n",
        "    fig.show()\n",
        "  elif graph_is_about == 'Hyper_active_users':\n",
        "    Top_ratings= data[data[X_column_name].isin([6,7,8,9,10])]\n",
        "    count=Top_ratings[Y_column_name].value_counts()\n",
        "    indices=count[count>=1000]\n",
        "    user_details=indices.index.tolist()\n",
        "    active_users = Top_ratings[Top_ratings[Y_column_name].isin(user_details)]\n",
        "    fig=px.scatter_3d(active_users,x='Year-Of-Publication', y=Y_column_name, z=X_column_name, color= 'Age', title= 'Hyper active users', opacity=0.8)\n",
        "    fig.show()\n"
      ]
    },
    {
      "cell_type": "code",
      "execution_count": null,
      "metadata": {},
      "outputs": [],
      "source": [
        "# if the renering didnt supported then used this code to see in default browser \n",
        "'''\n",
        "import plotly.io as pio\n",
        "pio.renderers.default = 'browser'  \n",
        "'''"
      ]
    },
    {
      "cell_type": "code",
      "execution_count": 63,
      "metadata": {
        "id": "2LAxfnqONWd2",
        "outputId": "0c84f603-46a2-4912-b2fe-54654da9af8d"
      },
      "outputs": [],
      "source": [
        "data_visualization(Required_data,'Book-Rating','User-ID','ISBN','ratings')"
      ]
    },
    {
      "cell_type": "code",
      "execution_count": 64,
      "metadata": {
        "id": "ed5quuQTNWd2",
        "outputId": "bd19ee40-9561-4a69-bbd0-7aead8d3fbe4"
      },
      "outputs": [],
      "source": [
        "data_visualization(Required_data,'Book-Rating','User-ID','c','Hyper_active_users')"
      ]
    },
    {
      "cell_type": "markdown",
      "metadata": {
        "id": "g0Uih0XoSFXA"
      },
      "source": [
        "**Analysis**\n",
        "\n",
        "*   After understanding the bar graph we can conclude that most of the users didn't gave the ratings to books.\n",
        "*   The data is total skewed towards left side which means its positively skewed.\n",
        "\n",
        "*   Which is a bad sign from business point of view.\n"
      ]
    },
    {
      "cell_type": "markdown",
      "metadata": {
        "id": "XZ8jwp4gWA-6"
      },
      "source": [
        "#**Content Based Filter**"
      ]
    },
    {
      "cell_type": "code",
      "execution_count": 14,
      "metadata": {},
      "outputs": [],
      "source": [
        "import pickle\n",
        "\n",
        "# Save mapping to a pickle file\n",
        "def save_mapping_to_pickle(mapping, filename):\n",
        "    with open(filename, 'wb') as f:\n",
        "        pickle.dump(mapping, f)\n",
        "\n",
        "# for loading the pickel file\n",
        "def load_user_mapping(filename):\n",
        "    with open(filename, 'rb') as f:\n",
        "        return pickle.load(f)\n"
      ]
    },
    {
      "cell_type": "code",
      "execution_count": null,
      "metadata": {
        "id": "fA1MTkFrNWd3",
        "outputId": "cd6dfd48-f8af-4973-e10f-5845911e9b17"
      },
      "outputs": [
        {
          "name": "stdout",
          "output_type": "stream",
          "text": [
            "  (0, 4)\t0.6198053799406072\n",
            "  (0, 1)\t0.6198053799406072\n",
            "  (0, 0)\t0.48133416873660545\n",
            "  (1, 3)\t0.7203334490549893\n",
            "  (1, 1)\t0.5478321549274363\n",
            "  (1, 0)\t0.4254405389711991\n",
            "  (2, 2)\t0.7203334490549893\n",
            "  (2, 4)\t0.5478321549274363\n",
            "  (2, 0)\t0.4254405389711991\n"
          ]
        },
        {
          "data": {
            "text/html": [
              "<div>\n",
              "<style scoped>\n",
              "    .dataframe tbody tr th:only-of-type {\n",
              "        vertical-align: middle;\n",
              "    }\n",
              "\n",
              "    .dataframe tbody tr th {\n",
              "        vertical-align: top;\n",
              "    }\n",
              "\n",
              "    .dataframe thead th {\n",
              "        text-align: right;\n",
              "    }\n",
              "</style>\n",
              "<table border=\"1\" class=\"dataframe\">\n",
              "  <thead>\n",
              "    <tr style=\"text-align: right;\">\n",
              "      <th></th>\n",
              "      <th>god</th>\n",
              "      <th>kitchen</th>\n",
              "      <th>love</th>\n",
              "      <th>table</th>\n",
              "      <th>wife</th>\n",
              "    </tr>\n",
              "  </thead>\n",
              "  <tbody>\n",
              "    <tr>\n",
              "      <th>0</th>\n",
              "      <td>0.481334</td>\n",
              "      <td>0.619805</td>\n",
              "      <td>0.000000</td>\n",
              "      <td>0.000000</td>\n",
              "      <td>0.619805</td>\n",
              "    </tr>\n",
              "    <tr>\n",
              "      <th>1</th>\n",
              "      <td>0.425441</td>\n",
              "      <td>0.547832</td>\n",
              "      <td>0.000000</td>\n",
              "      <td>0.720333</td>\n",
              "      <td>0.000000</td>\n",
              "    </tr>\n",
              "    <tr>\n",
              "      <th>2</th>\n",
              "      <td>0.425441</td>\n",
              "      <td>0.000000</td>\n",
              "      <td>0.720333</td>\n",
              "      <td>0.000000</td>\n",
              "      <td>0.547832</td>\n",
              "    </tr>\n",
              "  </tbody>\n",
              "</table>\n",
              "</div>"
            ],
            "text/plain": [
              "        god   kitchen      love     table      wife\n",
              "0  0.481334  0.619805  0.000000  0.000000  0.619805\n",
              "1  0.425441  0.547832  0.000000  0.720333  0.000000\n",
              "2  0.425441  0.000000  0.720333  0.000000  0.547832"
            ]
          },
          "execution_count": 84,
          "metadata": {},
          "output_type": "execute_result"
        }
      ],
      "source": [
        "# sample of a single string how does Tfidfvectorizer work\n",
        "T_vectorizer = TfidfVectorizer(\n",
        "    max_features=3000,\n",
        "    smooth_idf=True,\n",
        "    sublinear_tf=True,\n",
        ")\n",
        "word_count = T_vectorizer.fit_transform([\n",
        "    \"god kitchen wife\",\n",
        "    \"kitchen god table\",\n",
        "    \"wife god love\"\n",
        "])\n",
        "print(word_count)\n",
        "sample = pd.DataFrame.sparse.from_spmatrix(word_count, columns=T_vectorizer.get_feature_names_out())\n",
        "sample"
      ]
    },
    {
      "cell_type": "markdown",
      "metadata": {
        "id": "YzoYsOe4U326"
      },
      "source": [
        "\n",
        "\n",
        "*   This is the example of how tfidf vectorizer works.\n",
        "\n",
        "\n"
      ]
    },
    {
      "cell_type": "code",
      "execution_count": 32,
      "metadata": {
        "id": "A_Iw7s39NWd3"
      },
      "outputs": [],
      "source": [
        "# predifining the each tfidf vectorizer so that that we dont mix the words\n",
        "author_vectorizer = TfidfVectorizer(max_features=600, smooth_idf=True, sublinear_tf=True,ngram_range=(1, 2), min_df=2, max_df=0.9)\n",
        "publisher_vectorizer = TfidfVectorizer(max_features=394, smooth_idf=True, sublinear_tf=True,ngram_range=(1, 2), min_df=2, max_df=0.9)\n",
        "year_Of_publication_categorizes_vectorizer = TfidfVectorizer(max_features=10, smooth_idf=True, sublinear_tf=True, ngram_range=(1, 2), min_df=2, max_df=0.9)\n",
        "\n",
        "#fit the data with supperate tfidf vectorizer\n",
        "author_matrix=author_vectorizer.fit_transform(Books_modified_copy['Book-Author'])\n",
        "publisher_matrix=publisher_vectorizer.fit_transform(Books_modified_copy['Publisher'])\n",
        "year_of_publication_matrix=year_Of_publication_categorizes_vectorizer.fit_transform(Books_modified_copy['Year-Of-Publication-categorizes'])\n",
        "\n",
        "# so we are stacking all the matrix in a single var\n",
        "Content_based_filter_sparse=hstack([author_matrix,publisher_matrix,year_of_publication_matrix])"
      ]
    },
    {
      "cell_type": "code",
      "execution_count": null,
      "metadata": {
        "id": "m74IANmYNWd3"
      },
      "outputs": [
        {
          "data": {
            "text/plain": [
              "' \\nsave_npz(\"D:\\\\work_space\\\\projects\\\\recommendation_system\\\\streamlit_app\\\\Content_based_filter_sparse\",Content_based_filter_sparse)\\n\\n'"
            ]
          },
          "execution_count": 33,
          "metadata": {},
          "output_type": "execute_result"
        }
      ],
      "source": [
        "# saving the dataset\n",
        "''' \n",
        "save_npz(\"D:\\\\work_space\\\\projects\\\\recommendation_system\\\\streamlit_app\\\\Content_based_filter_sparse\",Content_based_filter_sparse)\n",
        "\n",
        "'''"
      ]
    },
    {
      "cell_type": "code",
      "execution_count": 34,
      "metadata": {
        "id": "CH-bNOusNWd3"
      },
      "outputs": [],
      "source": [
        "Content_based_filter_sparse=load_npz(\"D:\\\\work_space\\\\projects\\\\recommendation_system\\\\streamlit_app\\\\Content_based_filter_sparse.npz\")"
      ]
    },
    {
      "cell_type": "code",
      "execution_count": null,
      "metadata": {
        "id": "0I-7bBBjNWd4"
      },
      "outputs": [],
      "source": [
        "#content based recommendation system\n",
        "def index_IVF_PQ(tfidf_data):\n",
        "    # Dimension of the data set\n",
        "    d=tfidf_data.shape[1]\n",
        "    # Number of sub-vectors\n",
        "    # NOTE: d % m must always come zero\n",
        "    m=20\n",
        "    # Nmumber of clusters\n",
        "    clusters=2048\n",
        "    #bits per sub-vector\n",
        "    n_bits=8\n",
        "    # Its a technique used to find the nearest cluster using euclidean distance between the query vector and all the vectors in the cluster\n",
        "    # It also stores the all the clusters centroid to quickly access the nearest cluster\n",
        "    quantizer=faiss.IndexFlatL2(d)\n",
        "    # Its a vector search index that organizes and compresses data to perform fast approximate nearest neighbor (ANN) searches.\n",
        "    index=faiss.IndexIVFPQ(quantizer,d,clusters,m,n_bits)\n",
        "    # Collecting the sample data to train the index\n",
        "    # If you get memoryError then us this two lines and comment the present train_data line\n",
        "    #sample_data=min(100000,tfidf_data.shape[0])\n",
        "    #train_data=tfidf_data[:sample_data].toarray().astype('float32')\n",
        "    # Training data\n",
        "    train_data=tfidf_data.toarray().astype('float32')\n",
        "    # Training the index\n",
        "    index.train(train_data)\n",
        "    # Now we added the oringinal data to the index\n",
        "    batch_size=1000\n",
        "    for i in range(0,tfidf_data.shape[0],batch_size):\n",
        "        # adding the data by chuncks to the index\n",
        "        # we adding the rows data to the index the data is in pd dataframe format so we need to covert it to numpy\n",
        "        single_batch=(tfidf_data[ i : i+batch_size].toarray().astype('float32'))\n",
        "        index.add(single_batch)\n",
        "    print(index.is_trained)\n",
        "    return index"
      ]
    },
    {
      "cell_type": "markdown",
      "metadata": {
        "id": "mvH_j7kvVVot"
      },
      "source": [
        "\n",
        "\n",
        "*   This fucntion will train the index ivf pq with the non sparse data.\n",
        "\n",
        "\n"
      ]
    },
    {
      "cell_type": "code",
      "execution_count": 52,
      "metadata": {
        "id": "6Gm4LVNkNWd4"
      },
      "outputs": [],
      "source": [
        "# This function helps to search the index and return the similar books\n",
        "def search_index(user_query,num_of_top_books,index,nprobe_value,books_info_data):\n",
        "    query_vector=user_query.toarray().astype('float32')\n",
        "    index.nprobe=nprobe_value\n",
        "    # Searching for the similar vector\n",
        "    Distances, Indices =index.search(query_vector,num_of_top_books)\n",
        "    print('Retrived rows :',Indices)\n",
        "    # Extracting the original books names and etc from the original data using the index\n",
        "    recommended_books=[books_info_data.iloc[idx] for idx in Indices.flatten() if 0<= idx <len(books_info_data)]\n",
        "    Recommended_books=pd.DataFrame(recommended_books)\n",
        "    print('Distances between the points::',Distances)\n",
        "    return Recommended_books\n",
        "\n"
      ]
    },
    {
      "cell_type": "markdown",
      "metadata": {
        "id": "WoEC-CaXVnox"
      },
      "source": [
        "\n",
        "\n",
        "*   This function will search the nearst point to our query vector.\n",
        "\n",
        "\n"
      ]
    },
    {
      "cell_type": "code",
      "execution_count": 53,
      "metadata": {
        "id": "zDv29INaNWd4"
      },
      "outputs": [],
      "source": [
        "# This function will take the users requirements\n",
        "def user_specification():\n",
        "    # Asking the user to enter the specifications\n",
        "    book_author=input('Enter the Book Author( or press enter to skip):').strip()\n",
        "    publisher=input('Enter the Publisher( or press enter to skip):').strip()\n",
        "    year_of_publication=input('Enter the year_of_publication ( or press enter to skip):').strip()\n",
        "\n",
        "    if year_of_publication:\n",
        "        try:\n",
        "            year_of_publication=int(year_of_publication)\n",
        "            #function call\n",
        "            year_of_publication1=categeries_year(year_of_publication)\n",
        "        except ValueError:\n",
        "            print('Invalid input: please enter the year of publication in numbers')\n",
        "            year_of_publication=None\n",
        "    else:\n",
        "        # If user doesn't want to give the year\n",
        "        year_of_publication=None\n",
        "    if book_author:\n",
        "        author_matrix=author_vectorizer.transform([book_author])\n",
        "        print('Selected Author:',book_author)\n",
        "    else:\n",
        "        author_matrix=csr_matrix((1,author_vectorizer.get_feature_names_out().shape[0]))\n",
        "        print('Selected Author: None')\n",
        "    if publisher:\n",
        "        publisher_matrix=publisher_vectorizer.transform([publisher])\n",
        "        print('Selected Publisher:',publisher)\n",
        "    else:\n",
        "        publisher_matrix=csr_matrix((1,publisher_vectorizer.get_feature_names_out().shape[0]))\n",
        "        print('Selected Publisher: None')\n",
        "    if year_of_publication:\n",
        "        year_matrix=year_Of_publication_categorizes_vectorizer.transform([year_of_publication1])\n",
        "        print('Selected Year of Publication:',year_of_publication)\n",
        "    else:\n",
        "        year_matrix=csr_matrix((1,year_Of_publication_categorizes_vectorizer.get_feature_names_out().shape[0]))\n",
        "        print('Selected Year of Publication: None')\n",
        "    user_query_matrix=hstack([author_matrix,publisher_matrix,year_matrix])\n",
        "    # Creating the dict\n",
        "    return user_query_matrix"
      ]
    },
    {
      "cell_type": "markdown",
      "metadata": {
        "id": "qHTG7ZsgV2QR"
      },
      "source": [
        "\n",
        "\n",
        "*   This function will take the user specification\n",
        "\n"
      ]
    },
    {
      "cell_type": "code",
      "execution_count": 54,
      "metadata": {
        "id": "2ROEaTBtNWd4",
        "outputId": "7a8ee642-b2de-46ca-a937-a082eaf5ed36"
      },
      "outputs": [
        {
          "name": "stdout",
          "output_type": "stream",
          "text": [
            "True\n"
          ]
        }
      ],
      "source": [
        "# This function call will train the index\n",
        "Index_data=index_IVF_PQ(Content_based_filter_sparse)"
      ]
    },
    {
      "cell_type": "code",
      "execution_count": 55,
      "metadata": {
        "id": "BXxGP89zNWd4",
        "outputId": "72c93526-db54-4336-d615-04df08d43e6d"
      },
      "outputs": [
        {
          "name": "stdout",
          "output_type": "stream",
          "text": [
            "Selected Author: None\n",
            "Selected Publisher: Sun Books\n",
            "Selected Year of Publication: None\n"
          ]
        }
      ],
      "source": [
        "# This function call will collect the data from user\n",
        "query=user_specification()"
      ]
    },
    {
      "cell_type": "code",
      "execution_count": 56,
      "metadata": {},
      "outputs": [
        {
          "name": "stdout",
          "output_type": "stream",
          "text": [
            "Query vector shape: (1, 1000)\n",
            "FAISS index dimension: 1000\n"
          ]
        }
      ],
      "source": [
        "print(\"Query vector shape:\", query.shape)\n",
        "print(\"FAISS index dimension:\", Index_data.d)"
      ]
    },
    {
      "cell_type": "code",
      "execution_count": 57,
      "metadata": {
        "id": "jBvv5ZbHNWd4",
        "outputId": "a08647fc-8e17-4445-ad9f-9e45a293e6ad"
      },
      "outputs": [
        {
          "name": "stdout",
          "output_type": "stream",
          "text": [
            "Retrived rows : [[ 164  306  847  924 1049]]\n",
            "Distances between the points:: [[1.0000908 1.0000908 1.0000908 1.0000908 1.0000908]]\n"
          ]
        },
        {
          "data": {
            "text/html": [
              "<div>\n",
              "<style scoped>\n",
              "    .dataframe tbody tr th:only-of-type {\n",
              "        vertical-align: middle;\n",
              "    }\n",
              "\n",
              "    .dataframe tbody tr th {\n",
              "        vertical-align: top;\n",
              "    }\n",
              "\n",
              "    .dataframe thead th {\n",
              "        text-align: right;\n",
              "    }\n",
              "</style>\n",
              "<table border=\"1\" class=\"dataframe\">\n",
              "  <thead>\n",
              "    <tr style=\"text-align: right;\">\n",
              "      <th></th>\n",
              "      <th>ISBN</th>\n",
              "      <th>Book-Title</th>\n",
              "      <th>Book-Author</th>\n",
              "      <th>Year-Of-Publication</th>\n",
              "      <th>Publisher</th>\n",
              "      <th>Image-URL-S</th>\n",
              "      <th>Image-URL-M</th>\n",
              "      <th>Image-URL-L</th>\n",
              "    </tr>\n",
              "  </thead>\n",
              "  <tbody>\n",
              "    <tr>\n",
              "      <th>164</th>\n",
              "      <td>039575514X</td>\n",
              "      <td>My Antonia</td>\n",
              "      <td>Willa Cather</td>\n",
              "      <td>1995</td>\n",
              "      <td>Mariner Books</td>\n",
              "      <td>http://images.amazon.com/images/P/039575514X.0...</td>\n",
              "      <td>http://images.amazon.com/images/P/039575514X.0...</td>\n",
              "      <td>http://images.amazon.com/images/P/039575514X.0...</td>\n",
              "    </tr>\n",
              "    <tr>\n",
              "      <th>306</th>\n",
              "      <td>1573225487</td>\n",
              "      <td>The Romance Reader</td>\n",
              "      <td>Pearl Abraham</td>\n",
              "      <td>1996</td>\n",
              "      <td>Riverhead Books</td>\n",
              "      <td>http://images.amazon.com/images/P/1573225487.0...</td>\n",
              "      <td>http://images.amazon.com/images/P/1573225487.0...</td>\n",
              "      <td>http://images.amazon.com/images/P/1573225487.0...</td>\n",
              "    </tr>\n",
              "    <tr>\n",
              "      <th>847</th>\n",
              "      <td>1563411148</td>\n",
              "      <td>The Second Coming of Curly Red</td>\n",
              "      <td>Jody Seay</td>\n",
              "      <td>1999</td>\n",
              "      <td>Firebrand Books</td>\n",
              "      <td>http://images.amazon.com/images/P/1563411148.0...</td>\n",
              "      <td>http://images.amazon.com/images/P/1563411148.0...</td>\n",
              "      <td>http://images.amazon.com/images/P/1563411148.0...</td>\n",
              "    </tr>\n",
              "    <tr>\n",
              "      <th>924</th>\n",
              "      <td>753804700</td>\n",
              "      <td>Reader</td>\n",
              "      <td>Bernhard Schlink</td>\n",
              "      <td>1999</td>\n",
              "      <td>Phoenix Books</td>\n",
              "      <td>http://images.amazon.com/images/P/0753804700.0...</td>\n",
              "      <td>http://images.amazon.com/images/P/0753804700.0...</td>\n",
              "      <td>http://images.amazon.com/images/P/0753804700.0...</td>\n",
              "    </tr>\n",
              "    <tr>\n",
              "      <th>1049</th>\n",
              "      <td>805062971</td>\n",
              "      <td>Fight Club</td>\n",
              "      <td>Chuck Palahniuk</td>\n",
              "      <td>1999</td>\n",
              "      <td>Owl Books</td>\n",
              "      <td>http://images.amazon.com/images/P/0805062971.0...</td>\n",
              "      <td>http://images.amazon.com/images/P/0805062971.0...</td>\n",
              "      <td>http://images.amazon.com/images/P/0805062971.0...</td>\n",
              "    </tr>\n",
              "  </tbody>\n",
              "</table>\n",
              "</div>"
            ],
            "text/plain": [
              "            ISBN                      Book-Title       Book-Author  \\\n",
              "164   039575514X                      My Antonia      Willa Cather   \n",
              "306   1573225487              The Romance Reader     Pearl Abraham   \n",
              "847   1563411148  The Second Coming of Curly Red         Jody Seay   \n",
              "924    753804700                          Reader  Bernhard Schlink   \n",
              "1049   805062971                      Fight Club   Chuck Palahniuk   \n",
              "\n",
              "      Year-Of-Publication        Publisher  \\\n",
              "164                  1995    Mariner Books   \n",
              "306                  1996  Riverhead Books   \n",
              "847                  1999  Firebrand Books   \n",
              "924                  1999    Phoenix Books   \n",
              "1049                 1999        Owl Books   \n",
              "\n",
              "                                            Image-URL-S  \\\n",
              "164   http://images.amazon.com/images/P/039575514X.0...   \n",
              "306   http://images.amazon.com/images/P/1573225487.0...   \n",
              "847   http://images.amazon.com/images/P/1563411148.0...   \n",
              "924   http://images.amazon.com/images/P/0753804700.0...   \n",
              "1049  http://images.amazon.com/images/P/0805062971.0...   \n",
              "\n",
              "                                            Image-URL-M  \\\n",
              "164   http://images.amazon.com/images/P/039575514X.0...   \n",
              "306   http://images.amazon.com/images/P/1573225487.0...   \n",
              "847   http://images.amazon.com/images/P/1563411148.0...   \n",
              "924   http://images.amazon.com/images/P/0753804700.0...   \n",
              "1049  http://images.amazon.com/images/P/0805062971.0...   \n",
              "\n",
              "                                            Image-URL-L  \n",
              "164   http://images.amazon.com/images/P/039575514X.0...  \n",
              "306   http://images.amazon.com/images/P/1573225487.0...  \n",
              "847   http://images.amazon.com/images/P/1563411148.0...  \n",
              "924   http://images.amazon.com/images/P/0753804700.0...  \n",
              "1049  http://images.amazon.com/images/P/0805062971.0...  "
            ]
          },
          "execution_count": 57,
          "metadata": {},
          "output_type": "execute_result"
        }
      ],
      "source": [
        "# This function suggests the books\n",
        "search_index(query,5,Index_data,30,Books_modified)"
      ]
    },
    {
      "cell_type": "markdown",
      "metadata": {
        "id": "3EQIpIqyV9vj"
      },
      "source": [
        "\n",
        "\n",
        "*   This are the recommended books based on the user specification that we passed.\n",
        "\n",
        "\n"
      ]
    },
    {
      "cell_type": "markdown",
      "metadata": {
        "id": "aETVym34WV-F"
      },
      "source": [
        "#**Collaberative Filter**"
      ]
    },
    {
      "cell_type": "code",
      "execution_count": null,
      "metadata": {
        "id": "Rtt3OT7uNWd4"
      },
      "outputs": [],
      "source": [
        " # Collaberative Filter"
      ]
    },
    {
      "cell_type": "code",
      "execution_count": null,
      "metadata": {
        "id": "rMYNH-06NWd5"
      },
      "outputs": [],
      "source": [
        "# This function will convert the raw data to a pivot formate and then the pivot data will be converted to non sparse data\n",
        "def pivot_matrix_converter(data,chunk_size,user_rows,isbn_col,values_col):\n",
        "    # chunks size\n",
        "    Chunk_size=chunk_size\n",
        "    chunk_pivot_list=[]\n",
        "    unique_data=data['ISBN'].unique()\n",
        "    item_id_mapping={isbn:idx for idx , isbn in enumerate(unique_data)}\n",
        "    user_id_mapping={}\n",
        "    row_offset=0\n",
        "    # selects the data on the size of chunk and incremments the i value each time it iterates\n",
        "    for i in range(0, len(data),Chunk_size):\n",
        "        #taking the data from dataset\n",
        "        chunk_data=data.iloc[i:i+Chunk_size]\n",
        "        #converting the data to pivot formate\n",
        "        chunk_matrix=chunk_data.pivot(index=user_rows, columns=isbn_col, values=values_col)\n",
        "        # we are doing this because of when we stack the sparse data then it will raise an like columns not matched, because each iteration i am passing new chuncks, so the isbn code may changes and it wont be same as previous chunk\n",
        "        # so i am reindex with unique vaues of isbn so next chunk data ISBN code will be existed in the chunk_matrix. next time the data will directly enters to that particular code.\n",
        "        chunk_matrix=chunk_matrix.reindex(columns=unique_data,fill_value=0)\n",
        "        # Update user ID mapping\n",
        "        for idx, user_id in enumerate(chunk_matrix.index):\n",
        "            if user_id not in user_id_mapping:\n",
        "                user_id_mapping[user_id] = row_offset + idx\n",
        "        # converting pivot formate to sparse matrix\n",
        "        chunk_sparse=csr_matrix(chunk_matrix.fillna(0).values)\n",
        "        # appending the each chunk sparse data to chunk_pivot_list\n",
        "        chunk_pivot_list.append(chunk_sparse)\n",
        "    # vartically stacking the chunk_pivot_list\n",
        "    final_sparse_data=vstack(chunk_pivot_list)\n",
        "    return final_sparse_data,user_id_mapping,item_id_mapping\n"
      ]
    },
    {
      "cell_type": "markdown",
      "metadata": {
        "id": "vE2GGxkrWckd"
      },
      "source": [
        "\n",
        "\n",
        "*   This function will converts that dataset into pivot table and also to reduce the memory space we are passing the data in to chunks formate.\n",
        "\n",
        "\n",
        "*   The pivote table will again converts non sparse dataset. In non sparse there will be no zero values this prevents the memory error"
      ]
    },
    {
      "cell_type": "code",
      "execution_count": null,
      "metadata": {
        "id": "NLJzNrsVipUS"
      },
      "outputs": [],
      "source": [
        "# before running the content based filter make sure you ran this this\n",
        "#Content_based_filter_sparse=load_npz(\"D:\\\\work_space\\\\projects\\\\recommendation_system\\\\streamlit_app\\\\\\\\Content_based_filter_sparse.npz\")"
      ]
    },
    {
      "cell_type": "code",
      "execution_count": null,
      "metadata": {
        "id": "m97Yusl0NWd5"
      },
      "outputs": [],
      "source": [
        "Ratings_sparse_data,user_id_mapping,item_id_mapping= pivot_matrix_converter(Reindex_Ratings,10000,'User-ID','ISBN','Book-Rating')"
      ]
    },
    {
      "cell_type": "code",
      "execution_count": null,
      "metadata": {
        "id": "jwFPjjDWNWd5"
      },
      "outputs": [],
      "source": [
        "#saving userid and itemid index\n",
        "'''   \n",
        "\n",
        "make sure you saved this pkl file in the same directory where you run the streamlit app. this is the path where i saved the file  \n",
        "D:\\\\work_space\\\\projects\\\\recommendation_system\\\\streamlit_app\n",
        "\n",
        "you must run this code before running the streamlit app otherwise it will raise an error like \"user_id_mapping not found\" or \"item_id_mapping not found\"\n",
        "\n",
        "'''\n",
        "'''\n",
        "\n",
        "# same goes for this files also \n",
        "save_mapping_to_pickle(user_id_mapping, \"user_id_mapping.pkl\")\n",
        "save_mapping_to_pickle(item_id_mapping,\"item_id_mapping.pkl\")\n",
        "save_mapping_to_pickle(Books_modified_copy,\"books_no_stopwords_modified.pkl\")\n",
        "save_mapping_to_pickle(Books_modified,\"books_modified_original.pkl\")\n",
        "save_mapping_to_pickle(Users_modified1,\"user_modified_details.pkl\")\n",
        "save_mapping_to_pickle(Reindex_Ratings,\"rating_modified.pkl\")\n",
        "save_npz(\"D:\\\\work_space\\\\projects\\\\recommendation_system\\\\streamlit_app\\\\ratings_sparse_matrix\",Ratings_sparse_data)\n",
        "'''"
      ]
    },
    {
      "cell_type": "code",
      "execution_count": null,
      "metadata": {
        "id": "AYZPfMZ1NWd5"
      },
      "outputs": [],
      "source": [
        "# Load the matrix later\n",
        "Ratings_sparse_data=load_npz(\"D:\\\\work_space\\\\projects\\\\recommendation_system\\\\streamlit_app\\\\ratings_sparse_matrix.npz\")"
      ]
    },
    {
      "cell_type": "code",
      "execution_count": null,
      "metadata": {
        "id": "E2ERxI9HNWd5"
      },
      "outputs": [],
      "source": [
        "user_id_mapping=load_user_mapping(\"D:\\\\work_space\\\\projects\\\\recommendation_system\\\\streamlit_app\\\\user_id_mapping.pkl\")\n",
        "item_id_mapping=load_user_mapping(\"D:\\\\work_space\\\\projects\\\\recommendation_system\\\\streamlit_app\\\\item_id_mapping.pkl\")\n",
        "Reindex_Ratings=load_user_mapping(\"D:\\\\work_space\\\\projects\\\\recommendation_system\\\\streamlit_app\\\\rating_modified.pkl\")\n",
        "Books_modified=load_user_mapping(\"D:\\\\work_space\\\\projects\\\\recommendation_system\\\\streamlit_app\\\\books_modified_original.pkl\")"
      ]
    },
    {
      "cell_type": "code",
      "execution_count": null,
      "metadata": {
        "id": "jleV_K7xNWd6"
      },
      "outputs": [],
      "source": [
        "# This function is to train the model with hyper parameters\n",
        "def model_train(non_sparse_matrix,factors,regularization,iteration):\n",
        "    model=AlternatingLeastSquares(factors=factors,regularization=regularization,iterations=iteration)\n",
        "    model.fit(non_sparse_matrix.T)\n",
        "    return model"
      ]
    },
    {
      "cell_type": "markdown",
      "metadata": {
        "id": "9BYWwZ9-XGeD"
      },
      "source": [
        "\n",
        "\n",
        "*   This helps to train the model with certain hyper parameters\n",
        "\n"
      ]
    },
    {
      "cell_type": "code",
      "execution_count": null,
      "metadata": {
        "id": "-SIR50iXNWd6"
      },
      "outputs": [],
      "source": [
        "def map_user_id_to_index(user_id, user_id_mapping):\n",
        "    \"\"\"Map a raw user ID to the matrix index.\"\"\"\n",
        "    return user_id_mapping.get(user_id, None)"
      ]
    },
    {
      "cell_type": "markdown",
      "metadata": {
        "id": "v8nRbWkrXPrz"
      },
      "source": [
        "\n",
        "\n",
        "*   Here we are mapping the raw user id from the user id mapping which contains non sparse data rows and this will take the index form userid mapping which is matched with the raw user id.\n",
        "\n"
      ]
    },
    {
      "cell_type": "code",
      "execution_count": null,
      "metadata": {
        "id": "ObjVRbb3NWd6"
      },
      "outputs": [],
      "source": [
        "def calculate_biases(actual_ratings,user_index):\n",
        "    # Global biases\n",
        "    global_bias=actual_ratings.sum() / actual_ratings.nnz # Number of non zero elements\n",
        "\n",
        "    # User biases\n",
        "    user_sum=actual_ratings[user_index, :].sum()\n",
        "    user_nnz_count=(actual_ratings[user_index, :] != 0).sum()  # It create a boolen array and .sum() will count the true thats how we are going to know that how item does user rated\n",
        "    user_bias=(user_sum / user_nnz_count) - global_bias if user_nnz_count> 0 else 0\n",
        "\n",
        "    # Item biases\n",
        "    item_sum = actual_ratings[user_index, :].toarray().flatten()\n",
        "    item_nnz_counts = (actual_ratings[user_index, :] != 0).toarray().flatten()\n",
        "    item_bias = np.zeros(actual_ratings.shape[1])\n",
        "    item_bias[item_nnz_counts > 0] = (item_sum[item_nnz_counts > 0] / item_nnz_counts[item_nnz_counts > 0]) - global_bias\n",
        "    return global_bias ,user_bias, item_bias\n",
        "\n"
      ]
    },
    {
      "cell_type": "markdown",
      "metadata": {
        "id": "5_m_ZjrwX7Nn"
      },
      "source": [
        "\n",
        "\n",
        "*   To get more accuracy we calculating the biases and adds them with the predicted values.\n",
        "\n"
      ]
    },
    {
      "cell_type": "code",
      "execution_count": null,
      "metadata": {
        "id": "NFysawFXNWd6"
      },
      "outputs": [],
      "source": [
        "def predict_ratings(user_factor,item_factors,global_bias,user_bias,item_bias):\n",
        "\n",
        "    prediction_matrix = user_factor @ item_factors.T\n",
        "    if user_bias==0 and np.all(item_bias == 0):\n",
        "        return global_bias+prediction_matrix\n",
        "    else:\n",
        "        user_bias = np.array(user_bias).reshape(-1)\n",
        "        item_bias = np.array(item_bias).flatten()\n",
        "        # Align shapes by trimming item_bias if needed\n",
        "        item_bias = item_bias[:prediction_matrix.shape[0]]\n",
        "        return global_bias+user_bias+item_bias.flatten()+prediction_matrix"
      ]
    },
    {
      "cell_type": "markdown",
      "metadata": {
        "id": "px8eaRivYLfJ"
      },
      "source": [
        "\n",
        "\n",
        "*   This function will predict the rating of certain user.\n",
        "\n"
      ]
    },
    {
      "cell_type": "code",
      "execution_count": null,
      "metadata": {
        "id": "oVIRrbwRNWd6"
      },
      "outputs": [],
      "source": [
        "def top_recommended_isbn(predictions_ratings,item_id_mapping,n=20):\n",
        "    top_indices=np.argsort(predictions_ratings)[::-1][:n]\n",
        "    top_recommends=predictions_ratings[top_indices]\n",
        "    isbn_code = [(list(item_id_mapping.keys())[i], score) for i, score in zip(top_indices, top_recommends)]\n",
        "    return isbn_code\n"
      ]
    },
    {
      "cell_type": "markdown",
      "metadata": {
        "id": "9DtCUGnyYc0z"
      },
      "source": [
        "\n",
        "\n",
        "*   This function will return the isbn code that has more rating.\n",
        "\n"
      ]
    },
    {
      "cell_type": "code",
      "execution_count": null,
      "metadata": {
        "id": "bjVO49SNNWd6"
      },
      "outputs": [],
      "source": [
        "def recommend_books(isbn_code,original_data,top_n):\n",
        "    # creating a dataframe\n",
        "    isbn=pd.DataFrame(isbn_code,columns=['ISBN','Ratings'])\n",
        "    # This will checks does we have the books details in our original dataset\n",
        "    valid_books=isbn[isbn['ISBN'].isin(original_data['ISBN'].unique())]\n",
        "    # using left join we are going to retrive the data from the orinal dataset\n",
        "    top_recommends=pd.merge(valid_books,original_data,on='ISBN',how='left')\n",
        "    return top_recommends.head(top_n)"
      ]
    },
    {
      "cell_type": "code",
      "execution_count": null,
      "metadata": {
        "colab": {
          "referenced_widgets": [
            "1f2a1f76bcfe44888a29dccab94c771c"
          ]
        },
        "id": "k1iHAuwiNWd6",
        "outputId": "28c281c9-cd3e-40f3-c358-223c74c65257"
      },
      "outputs": [
        {
          "data": {
            "application/vnd.jupyter.widget-view+json": {
              "model_id": "1f2a1f76bcfe44888a29dccab94c771c",
              "version_major": 2,
              "version_minor": 0
            },
            "text/plain": [
              "  0%|          | 0/20 [00:00<?, ?it/s]"
            ]
          },
          "metadata": {},
          "output_type": "display_data"
        }
      ],
      "source": [
        "model=model_train(Ratings_sparse_data,50,0.01,20)"
      ]
    },
    {
      "cell_type": "code",
      "execution_count": null,
      "metadata": {
        "id": "wiTahFc7NWd7"
      },
      "outputs": [],
      "source": [
        "raw_user_id=276727\n",
        "no_of_top_ratings=5\n",
        "user_index=map_user_id_to_index(raw_user_id,user_id_mapping)"
      ]
    },
    {
      "cell_type": "code",
      "execution_count": null,
      "metadata": {
        "id": "1XRR6A5uNWd7"
      },
      "outputs": [],
      "source": [
        "if user_index is not None and user_index < Ratings_sparse_data.shape[0]:\n",
        "    global_bias,user_bias,item_bias=calculate_biases(Ratings_sparse_data,user_index)\n",
        "    user_factor=model.user_factors[user_index]\n",
        "    item_factors=model.item_factors\n",
        "    predictions_ratings=predict_ratings(user_factor,item_factors,global_bias,user_bias,item_bias)\n",
        "    top_isbn=top_recommended_isbn(predictions_ratings,item_id_mapping)\n",
        "    recommended_book=recommend_books(top_isbn,Books_modified,no_of_top_ratings)\n",
        "else:\n",
        "    print(f\"we dont have {raw_user_id} this user details but still we can recommend them based on the content based recommendation system\")\n",
        "\n"
      ]
    },
    {
      "cell_type": "code",
      "execution_count": null,
      "metadata": {
        "id": "6iemQ6ETNWd7",
        "outputId": "4cb3710a-ee5f-4c1d-a57f-5bcfaf141b34"
      },
      "outputs": [
        {
          "data": {
            "text/html": [
              "<div>\n",
              "<style scoped>\n",
              "    .dataframe tbody tr th:only-of-type {\n",
              "        vertical-align: middle;\n",
              "    }\n",
              "\n",
              "    .dataframe tbody tr th {\n",
              "        vertical-align: top;\n",
              "    }\n",
              "\n",
              "    .dataframe thead th {\n",
              "        text-align: right;\n",
              "    }\n",
              "</style>\n",
              "<table border=\"1\" class=\"dataframe\">\n",
              "  <thead>\n",
              "    <tr style=\"text-align: right;\">\n",
              "      <th></th>\n",
              "      <th>ISBN</th>\n",
              "      <th>Ratings</th>\n",
              "      <th>Book-Title</th>\n",
              "      <th>Book-Author</th>\n",
              "      <th>Year-Of-Publication</th>\n",
              "      <th>Publisher</th>\n",
              "      <th>Image-URL-S</th>\n",
              "      <th>Image-URL-M</th>\n",
              "      <th>Image-URL-L</th>\n",
              "    </tr>\n",
              "  </thead>\n",
              "  <tbody>\n",
              "    <tr>\n",
              "      <th>0</th>\n",
              "      <td>725102586</td>\n",
              "      <td>7.601066</td>\n",
              "      <td>From Curtin to Kerr</td>\n",
              "      <td>Fred Daly</td>\n",
              "      <td>1977</td>\n",
              "      <td>Sun Books</td>\n",
              "      <td>http://images.amazon.com/images/P/0725102586.0...</td>\n",
              "      <td>http://images.amazon.com/images/P/0725102586.0...</td>\n",
              "      <td>http://images.amazon.com/images/P/0725102586.0...</td>\n",
              "    </tr>\n",
              "    <tr>\n",
              "      <th>1</th>\n",
              "      <td>843949082</td>\n",
              "      <td>7.601066</td>\n",
              "      <td>To Meet Again</td>\n",
              "      <td>Elaine Barbieri</td>\n",
              "      <td>2001</td>\n",
              "      <td>Leisure Books</td>\n",
              "      <td>http://images.amazon.com/images/P/0843949082.0...</td>\n",
              "      <td>http://images.amazon.com/images/P/0843949082.0...</td>\n",
              "      <td>http://images.amazon.com/images/P/0843949082.0...</td>\n",
              "    </tr>\n",
              "    <tr>\n",
              "      <th>2</th>\n",
              "      <td>1551665212</td>\n",
              "      <td>7.601066</td>\n",
              "      <td>Wanting You</td>\n",
              "      <td>Nan Ryan</td>\n",
              "      <td>1999</td>\n",
              "      <td>Mira</td>\n",
              "      <td>http://images.amazon.com/images/P/1551665212.0...</td>\n",
              "      <td>http://images.amazon.com/images/P/1551665212.0...</td>\n",
              "      <td>http://images.amazon.com/images/P/1551665212.0...</td>\n",
              "    </tr>\n",
              "    <tr>\n",
              "      <th>3</th>\n",
              "      <td>037312256X</td>\n",
              "      <td>7.601066</td>\n",
              "      <td>The Mistress Scandal  (Passion) (Harlequin Pre...</td>\n",
              "      <td>Kim Lawrence</td>\n",
              "      <td>2002</td>\n",
              "      <td>Harlequin</td>\n",
              "      <td>http://images.amazon.com/images/P/037312256X.0...</td>\n",
              "      <td>http://images.amazon.com/images/P/037312256X.0...</td>\n",
              "      <td>http://images.amazon.com/images/P/037312256X.0...</td>\n",
              "    </tr>\n",
              "    <tr>\n",
              "      <th>4</th>\n",
              "      <td>449205975</td>\n",
              "      <td>7.601066</td>\n",
              "      <td>Jian</td>\n",
              "      <td>ERIC VAN LUSTBADER</td>\n",
              "      <td>1986</td>\n",
              "      <td>Fawcett</td>\n",
              "      <td>http://images.amazon.com/images/P/0449205975.0...</td>\n",
              "      <td>http://images.amazon.com/images/P/0449205975.0...</td>\n",
              "      <td>http://images.amazon.com/images/P/0449205975.0...</td>\n",
              "    </tr>\n",
              "  </tbody>\n",
              "</table>\n",
              "</div>"
            ],
            "text/plain": [
              "         ISBN   Ratings                                         Book-Title  \\\n",
              "0   725102586  7.601066                                From Curtin to Kerr   \n",
              "1   843949082  7.601066                                      To Meet Again   \n",
              "2  1551665212  7.601066                                        Wanting You   \n",
              "3  037312256X  7.601066  The Mistress Scandal  (Passion) (Harlequin Pre...   \n",
              "4   449205975  7.601066                                               Jian   \n",
              "\n",
              "          Book-Author  Year-Of-Publication      Publisher  \\\n",
              "0           Fred Daly                 1977      Sun Books   \n",
              "1     Elaine Barbieri                 2001  Leisure Books   \n",
              "2            Nan Ryan                 1999           Mira   \n",
              "3        Kim Lawrence                 2002      Harlequin   \n",
              "4  ERIC VAN LUSTBADER                 1986        Fawcett   \n",
              "\n",
              "                                         Image-URL-S  \\\n",
              "0  http://images.amazon.com/images/P/0725102586.0...   \n",
              "1  http://images.amazon.com/images/P/0843949082.0...   \n",
              "2  http://images.amazon.com/images/P/1551665212.0...   \n",
              "3  http://images.amazon.com/images/P/037312256X.0...   \n",
              "4  http://images.amazon.com/images/P/0449205975.0...   \n",
              "\n",
              "                                         Image-URL-M  \\\n",
              "0  http://images.amazon.com/images/P/0725102586.0...   \n",
              "1  http://images.amazon.com/images/P/0843949082.0...   \n",
              "2  http://images.amazon.com/images/P/1551665212.0...   \n",
              "3  http://images.amazon.com/images/P/037312256X.0...   \n",
              "4  http://images.amazon.com/images/P/0449205975.0...   \n",
              "\n",
              "                                         Image-URL-L  \n",
              "0  http://images.amazon.com/images/P/0725102586.0...  \n",
              "1  http://images.amazon.com/images/P/0843949082.0...  \n",
              "2  http://images.amazon.com/images/P/1551665212.0...  \n",
              "3  http://images.amazon.com/images/P/037312256X.0...  \n",
              "4  http://images.amazon.com/images/P/0449205975.0...  "
            ]
          },
          "execution_count": 178,
          "metadata": {},
          "output_type": "execute_result"
        }
      ],
      "source": [
        "recommended_book"
      ]
    },
    {
      "cell_type": "markdown",
      "metadata": {
        "id": "iJWBHCV9YpoN"
      },
      "source": [
        "\n",
        "\n",
        "*   This are recommended books for the particular user id.\n",
        "\n"
      ]
    },
    {
      "cell_type": "markdown",
      "metadata": {
        "id": "of2qeMC5YzdN"
      },
      "source": [
        "#**Popularity Based Recommendations**"
      ]
    },
    {
      "cell_type": "code",
      "execution_count": null,
      "metadata": {
        "id": "didcnJt7NWd7"
      },
      "outputs": [],
      "source": [
        "#popularity based recommendations\n"
      ]
    },
    {
      "cell_type": "code",
      "execution_count": null,
      "metadata": {
        "id": "yOroGuI2NWd7"
      },
      "outputs": [],
      "source": [
        "class PopularityBasedRecommender:\n",
        "    def __init__(self):\n",
        "        self.item_scores = None\n",
        "        self.ratings_data = None\n",
        "    # this function will calculate the avg rating and also no of user read certain book i mean count\n",
        "    def fit(self,ratings_data, item_col, rating_col):\n",
        "        self.ratings_data=ratings_data\n",
        "        item_popularity = ratings_data.groupby(item_col).agg(popularity_score=(item_col,'size'),\n",
        "                                                             average_rating=(rating_col,'mean')).reset_index()\n",
        "\n",
        "        sorted_item_popularity=item_popularity.sort_values(by=['popularity_score','average_rating'],ascending=[False,False])\n",
        "\n",
        "        self.item_scores = sorted_item_popularity\n",
        "    # this will recommend the top 20 books that are more popular\n",
        "    def recommend_popular_items(self,top_n=20):\n",
        "        if self.item_scores is None:\n",
        "            raise ValueError(\"Model has not been trained. Call 'fit' with rating_data.\")\n",
        "        return self.item_scores.head(top_n)\n",
        "    def checks_isbn_isin(self,original_books,top_num,item_col='ISBN'):\n",
        "        valid_books=self.item_scores[self.item_scores[item_col].isin(original_books[item_col].unique())]\n",
        "        popular_books=pd.merge(valid_books,original_books,on='ISBN',how='left')\n",
        "        return popular_books.head(top_num)"
      ]
    },
    {
      "cell_type": "code",
      "execution_count": null,
      "metadata": {
        "id": "I7y1StN5NWd7"
      },
      "outputs": [],
      "source": [
        "if __name__ == \"__main__\":\n",
        "    recommender=PopularityBasedRecommender()\n",
        "    recommender.fit(ratings_data=Reindex_Ratings,item_col='ISBN',rating_col='Book-Rating')\n",
        "    recommender.recommend_popular_items()\n",
        "    popular_books=recommender.checks_isbn_isin(Books_modified,10)"
      ]
    },
    {
      "cell_type": "code",
      "execution_count": null,
      "metadata": {
        "id": "fHmz4GqBNWd7",
        "outputId": "367a2ae6-5dc0-4bc4-b3d3-9489247ff90c"
      },
      "outputs": [
        {
          "data": {
            "text/html": [
              "<div>\n",
              "<style scoped>\n",
              "    .dataframe tbody tr th:only-of-type {\n",
              "        vertical-align: middle;\n",
              "    }\n",
              "\n",
              "    .dataframe tbody tr th {\n",
              "        vertical-align: top;\n",
              "    }\n",
              "\n",
              "    .dataframe thead th {\n",
              "        text-align: right;\n",
              "    }\n",
              "</style>\n",
              "<table border=\"1\" class=\"dataframe\">\n",
              "  <thead>\n",
              "    <tr style=\"text-align: right;\">\n",
              "      <th></th>\n",
              "      <th>ISBN</th>\n",
              "      <th>popularity_score</th>\n",
              "      <th>average_rating</th>\n",
              "      <th>Book-Title</th>\n",
              "      <th>Book-Author</th>\n",
              "      <th>Year-Of-Publication</th>\n",
              "      <th>Publisher</th>\n",
              "      <th>Image-URL-S</th>\n",
              "      <th>Image-URL-M</th>\n",
              "      <th>Image-URL-L</th>\n",
              "    </tr>\n",
              "  </thead>\n",
              "  <tbody>\n",
              "    <tr>\n",
              "      <th>0</th>\n",
              "      <td>971880107</td>\n",
              "      <td>2503</td>\n",
              "      <td>1.019177</td>\n",
              "      <td>Wild Animus</td>\n",
              "      <td>Rich Shapero</td>\n",
              "      <td>2004</td>\n",
              "      <td>Too Far</td>\n",
              "      <td>http://images.amazon.com/images/P/0971880107.0...</td>\n",
              "      <td>http://images.amazon.com/images/P/0971880107.0...</td>\n",
              "      <td>http://images.amazon.com/images/P/0971880107.0...</td>\n",
              "    </tr>\n",
              "    <tr>\n",
              "      <th>1</th>\n",
              "      <td>316666343</td>\n",
              "      <td>1295</td>\n",
              "      <td>4.468726</td>\n",
              "      <td>The Lovely Bones: A Novel</td>\n",
              "      <td>Alice Sebold</td>\n",
              "      <td>2002</td>\n",
              "      <td>Little, Brown</td>\n",
              "      <td>http://images.amazon.com/images/P/0316666343.0...</td>\n",
              "      <td>http://images.amazon.com/images/P/0316666343.0...</td>\n",
              "      <td>http://images.amazon.com/images/P/0316666343.0...</td>\n",
              "    </tr>\n",
              "    <tr>\n",
              "      <th>2</th>\n",
              "      <td>385504209</td>\n",
              "      <td>884</td>\n",
              "      <td>4.656109</td>\n",
              "      <td>The Da Vinci Code</td>\n",
              "      <td>Dan Brown</td>\n",
              "      <td>2003</td>\n",
              "      <td>Doubleday</td>\n",
              "      <td>http://images.amazon.com/images/P/0385504209.0...</td>\n",
              "      <td>http://images.amazon.com/images/P/0385504209.0...</td>\n",
              "      <td>http://images.amazon.com/images/P/0385504209.0...</td>\n",
              "    </tr>\n",
              "    <tr>\n",
              "      <th>3</th>\n",
              "      <td>60928336</td>\n",
              "      <td>732</td>\n",
              "      <td>3.448087</td>\n",
              "      <td>Divine Secrets of the Ya-Ya Sisterhood: A Novel</td>\n",
              "      <td>Rebecca Wells</td>\n",
              "      <td>1997</td>\n",
              "      <td>Perennial</td>\n",
              "      <td>http://images.amazon.com/images/P/0060928336.0...</td>\n",
              "      <td>http://images.amazon.com/images/P/0060928336.0...</td>\n",
              "      <td>http://images.amazon.com/images/P/0060928336.0...</td>\n",
              "    </tr>\n",
              "    <tr>\n",
              "      <th>4</th>\n",
              "      <td>312195516</td>\n",
              "      <td>724</td>\n",
              "      <td>4.339779</td>\n",
              "      <td>The Red Tent (Bestselling Backlist)</td>\n",
              "      <td>Anita Diamant</td>\n",
              "      <td>1998</td>\n",
              "      <td>Picador USA</td>\n",
              "      <td>http://images.amazon.com/images/P/0312195516.0...</td>\n",
              "      <td>http://images.amazon.com/images/P/0312195516.0...</td>\n",
              "      <td>http://images.amazon.com/images/P/0312195516.0...</td>\n",
              "    </tr>\n",
              "    <tr>\n",
              "      <th>5</th>\n",
              "      <td>044023722X</td>\n",
              "      <td>647</td>\n",
              "      <td>3.187017</td>\n",
              "      <td>A Painted House</td>\n",
              "      <td>John Grisham</td>\n",
              "      <td>2001</td>\n",
              "      <td>Dell Publishing Company</td>\n",
              "      <td>http://images.amazon.com/images/P/044023722X.0...</td>\n",
              "      <td>http://images.amazon.com/images/P/044023722X.0...</td>\n",
              "      <td>http://images.amazon.com/images/P/044023722X.0...</td>\n",
              "    </tr>\n",
              "    <tr>\n",
              "      <th>6</th>\n",
              "      <td>142001740</td>\n",
              "      <td>615</td>\n",
              "      <td>4.219512</td>\n",
              "      <td>The Secret Life of Bees</td>\n",
              "      <td>Sue Monk Kidd</td>\n",
              "      <td>2003</td>\n",
              "      <td>Penguin Books</td>\n",
              "      <td>http://images.amazon.com/images/P/0142001740.0...</td>\n",
              "      <td>http://images.amazon.com/images/P/0142001740.0...</td>\n",
              "      <td>http://images.amazon.com/images/P/0142001740.0...</td>\n",
              "    </tr>\n",
              "    <tr>\n",
              "      <th>7</th>\n",
              "      <td>067976402X</td>\n",
              "      <td>614</td>\n",
              "      <td>3.255700</td>\n",
              "      <td>Snow Falling on Cedars</td>\n",
              "      <td>David Guterson</td>\n",
              "      <td>1995</td>\n",
              "      <td>Vintage Books USA</td>\n",
              "      <td>http://images.amazon.com/images/P/067976402X.0...</td>\n",
              "      <td>http://images.amazon.com/images/P/067976402X.0...</td>\n",
              "      <td>http://images.amazon.com/images/P/067976402X.0...</td>\n",
              "    </tr>\n",
              "    <tr>\n",
              "      <th>8</th>\n",
              "      <td>671027360</td>\n",
              "      <td>586</td>\n",
              "      <td>3.718430</td>\n",
              "      <td>Angels &amp;amp; Demons</td>\n",
              "      <td>Dan Brown</td>\n",
              "      <td>2001</td>\n",
              "      <td>Pocket Star</td>\n",
              "      <td>http://images.amazon.com/images/P/0671027360.0...</td>\n",
              "      <td>http://images.amazon.com/images/P/0671027360.0...</td>\n",
              "      <td>http://images.amazon.com/images/P/0671027360.0...</td>\n",
              "    </tr>\n",
              "    <tr>\n",
              "      <th>9</th>\n",
              "      <td>446672211</td>\n",
              "      <td>585</td>\n",
              "      <td>4.105983</td>\n",
              "      <td>Where the Heart Is (Oprah's Book Club (Paperba...</td>\n",
              "      <td>Billie Letts</td>\n",
              "      <td>1998</td>\n",
              "      <td>Warner Books</td>\n",
              "      <td>http://images.amazon.com/images/P/0446672211.0...</td>\n",
              "      <td>http://images.amazon.com/images/P/0446672211.0...</td>\n",
              "      <td>http://images.amazon.com/images/P/0446672211.0...</td>\n",
              "    </tr>\n",
              "  </tbody>\n",
              "</table>\n",
              "</div>"
            ],
            "text/plain": [
              "         ISBN  popularity_score  average_rating  \\\n",
              "0   971880107              2503        1.019177   \n",
              "1   316666343              1295        4.468726   \n",
              "2   385504209               884        4.656109   \n",
              "3    60928336               732        3.448087   \n",
              "4   312195516               724        4.339779   \n",
              "5  044023722X               647        3.187017   \n",
              "6   142001740               615        4.219512   \n",
              "7  067976402X               614        3.255700   \n",
              "8   671027360               586        3.718430   \n",
              "9   446672211               585        4.105983   \n",
              "\n",
              "                                          Book-Title     Book-Author  \\\n",
              "0                                        Wild Animus    Rich Shapero   \n",
              "1                          The Lovely Bones: A Novel    Alice Sebold   \n",
              "2                                  The Da Vinci Code       Dan Brown   \n",
              "3    Divine Secrets of the Ya-Ya Sisterhood: A Novel   Rebecca Wells   \n",
              "4                The Red Tent (Bestselling Backlist)   Anita Diamant   \n",
              "5                                    A Painted House    John Grisham   \n",
              "6                            The Secret Life of Bees   Sue Monk Kidd   \n",
              "7                             Snow Falling on Cedars  David Guterson   \n",
              "8                                Angels &amp; Demons       Dan Brown   \n",
              "9  Where the Heart Is (Oprah's Book Club (Paperba...    Billie Letts   \n",
              "\n",
              "   Year-Of-Publication                Publisher  \\\n",
              "0                 2004                  Too Far   \n",
              "1                 2002            Little, Brown   \n",
              "2                 2003                Doubleday   \n",
              "3                 1997                Perennial   \n",
              "4                 1998              Picador USA   \n",
              "5                 2001  Dell Publishing Company   \n",
              "6                 2003            Penguin Books   \n",
              "7                 1995        Vintage Books USA   \n",
              "8                 2001              Pocket Star   \n",
              "9                 1998             Warner Books   \n",
              "\n",
              "                                         Image-URL-S  \\\n",
              "0  http://images.amazon.com/images/P/0971880107.0...   \n",
              "1  http://images.amazon.com/images/P/0316666343.0...   \n",
              "2  http://images.amazon.com/images/P/0385504209.0...   \n",
              "3  http://images.amazon.com/images/P/0060928336.0...   \n",
              "4  http://images.amazon.com/images/P/0312195516.0...   \n",
              "5  http://images.amazon.com/images/P/044023722X.0...   \n",
              "6  http://images.amazon.com/images/P/0142001740.0...   \n",
              "7  http://images.amazon.com/images/P/067976402X.0...   \n",
              "8  http://images.amazon.com/images/P/0671027360.0...   \n",
              "9  http://images.amazon.com/images/P/0446672211.0...   \n",
              "\n",
              "                                         Image-URL-M  \\\n",
              "0  http://images.amazon.com/images/P/0971880107.0...   \n",
              "1  http://images.amazon.com/images/P/0316666343.0...   \n",
              "2  http://images.amazon.com/images/P/0385504209.0...   \n",
              "3  http://images.amazon.com/images/P/0060928336.0...   \n",
              "4  http://images.amazon.com/images/P/0312195516.0...   \n",
              "5  http://images.amazon.com/images/P/044023722X.0...   \n",
              "6  http://images.amazon.com/images/P/0142001740.0...   \n",
              "7  http://images.amazon.com/images/P/067976402X.0...   \n",
              "8  http://images.amazon.com/images/P/0671027360.0...   \n",
              "9  http://images.amazon.com/images/P/0446672211.0...   \n",
              "\n",
              "                                         Image-URL-L  \n",
              "0  http://images.amazon.com/images/P/0971880107.0...  \n",
              "1  http://images.amazon.com/images/P/0316666343.0...  \n",
              "2  http://images.amazon.com/images/P/0385504209.0...  \n",
              "3  http://images.amazon.com/images/P/0060928336.0...  \n",
              "4  http://images.amazon.com/images/P/0312195516.0...  \n",
              "5  http://images.amazon.com/images/P/044023722X.0...  \n",
              "6  http://images.amazon.com/images/P/0142001740.0...  \n",
              "7  http://images.amazon.com/images/P/067976402X.0...  \n",
              "8  http://images.amazon.com/images/P/0671027360.0...  \n",
              "9  http://images.amazon.com/images/P/0446672211.0...  "
            ]
          },
          "execution_count": 182,
          "metadata": {},
          "output_type": "execute_result"
        }
      ],
      "source": [
        "popular_books.head(10)"
      ]
    },
    {
      "cell_type": "markdown",
      "metadata": {
        "id": "ItlOycWKZb17"
      },
      "source": [
        "\n",
        "\n",
        "*   This are the top 10 popular books that user gave more rating and also read by a lot users\n",
        "\n"
      ]
    },
    {
      "cell_type": "code",
      "execution_count": null,
      "metadata": {
        "id": "jIkYwH_8NWd8"
      },
      "outputs": [],
      "source": [
        " # trending books on each year"
      ]
    },
    {
      "cell_type": "code",
      "execution_count": null,
      "metadata": {
        "id": "TAdR7LBjNWd8"
      },
      "outputs": [],
      "source": [
        "# Here i am going to take only the data which we have the book details. so by joining the books details with the user we can find the trending books on specific year\n",
        "#data_for_trending_books=pd.merge(Reindex_Ratings,Books_modified,on='ISBN',how='inner')\n",
        "# Now we dont need the user id\n",
        "#data_for_trending_books=data_for_trending_books.drop(columns='User-ID')\n",
        "# Saving the dataset\n",
        "#save_mapping_to_pickle(data_for_trending_books,'data_for_trending.pkl')"
      ]
    },
    {
      "cell_type": "markdown",
      "metadata": {
        "id": "qcobmI6Ph-ku"
      },
      "source": [
        " #**Trending Books**"
      ]
    },
    {
      "cell_type": "code",
      "execution_count": null,
      "metadata": {
        "id": "XL7t5fU4NWd8"
      },
      "outputs": [],
      "source": [
        "# load the dataset\n",
        "data_for_trending=load_user_mapping('data_for_trending.pkl')"
      ]
    },
    {
      "cell_type": "code",
      "execution_count": null,
      "metadata": {
        "id": "Sob_pjMINWd8"
      },
      "outputs": [],
      "source": [
        "class Trending_books:\n",
        "    def __init__(self):\n",
        "        self.dataset = None\n",
        "        self.treding_items = None\n",
        "    def fit(self,dataset):\n",
        "        self.dataset=dataset\n",
        "    def pick_trending_books(self,year,data_col,item_col,rating_col,top_n):\n",
        "        if self.dataset is None:\n",
        "            raise ValueError(\"Model has not been trained. Call 'fit' with interaction data.\")\n",
        "        year_data=self.dataset[self.dataset[data_col] == year]\n",
        "        if year_data is None:\n",
        "            raise ValueError(f\"we dont have the books details of {year} year \")\n",
        "        item_trending=year_data.groupby(item_col).agg(popularity_score=(item_col,'size'),\n",
        "                                                       average_rating=(rating_col,'mean')).reset_index()\n",
        "        trending_items=item_trending.sort_values(by=['popularity_score','average_rating'], ascending=[False, False])\n",
        "        self.trending_items = trending_items.head(top_n)\n",
        "    def book_recommender(self,original_data):\n",
        "        book_details=pd.merge(self.trending_items,original_data,on=\"ISBN\",how='left')\n",
        "        return book_details\n",
        "\n"
      ]
    },
    {
      "cell_type": "code",
      "execution_count": null,
      "metadata": {
        "id": "aL5SECXrNWd8"
      },
      "outputs": [],
      "source": [
        "if __name__ == \"__main__\":\n",
        "    trend_recommender=Trending_books()\n",
        "    trend_recommender.fit(data_for_trending)\n",
        "    trend_recommender.pick_trending_books(2002,'Year-Of-Publication','ISBN','Book-Rating',5)\n",
        "    trending_books=trend_recommender.book_recommender(Books_modified)"
      ]
    },
    {
      "cell_type": "code",
      "execution_count": null,
      "metadata": {
        "id": "K8P8bpEJNWd8",
        "outputId": "1e99227b-6b7a-4172-e25b-0890759aa99a"
      },
      "outputs": [
        {
          "data": {
            "text/html": [
              "<div>\n",
              "<style scoped>\n",
              "    .dataframe tbody tr th:only-of-type {\n",
              "        vertical-align: middle;\n",
              "    }\n",
              "\n",
              "    .dataframe tbody tr th {\n",
              "        vertical-align: top;\n",
              "    }\n",
              "\n",
              "    .dataframe thead th {\n",
              "        text-align: right;\n",
              "    }\n",
              "</style>\n",
              "<table border=\"1\" class=\"dataframe\">\n",
              "  <thead>\n",
              "    <tr style=\"text-align: right;\">\n",
              "      <th></th>\n",
              "      <th>ISBN</th>\n",
              "      <th>popularity_score</th>\n",
              "      <th>average_rating</th>\n",
              "      <th>Book-Title</th>\n",
              "      <th>Book-Author</th>\n",
              "      <th>Year-Of-Publication</th>\n",
              "      <th>Publisher</th>\n",
              "      <th>Image-URL-S</th>\n",
              "      <th>Image-URL-M</th>\n",
              "      <th>Image-URL-L</th>\n",
              "    </tr>\n",
              "  </thead>\n",
              "  <tbody>\n",
              "    <tr>\n",
              "      <th>0</th>\n",
              "      <td>316666343</td>\n",
              "      <td>1295</td>\n",
              "      <td>4.468726</td>\n",
              "      <td>The Lovely Bones: A Novel</td>\n",
              "      <td>Alice Sebold</td>\n",
              "      <td>2002</td>\n",
              "      <td>Little, Brown</td>\n",
              "      <td>http://images.amazon.com/images/P/0316666343.0...</td>\n",
              "      <td>http://images.amazon.com/images/P/0316666343.0...</td>\n",
              "      <td>http://images.amazon.com/images/P/0316666343.0...</td>\n",
              "    </tr>\n",
              "    <tr>\n",
              "      <th>1</th>\n",
              "      <td>312278586</td>\n",
              "      <td>474</td>\n",
              "      <td>3.597046</td>\n",
              "      <td>The Nanny Diaries: A Novel</td>\n",
              "      <td>Emma McLaughlin</td>\n",
              "      <td>2002</td>\n",
              "      <td>St. Martin's Press</td>\n",
              "      <td>http://images.amazon.com/images/P/0312278586.0...</td>\n",
              "      <td>http://images.amazon.com/images/P/0312278586.0...</td>\n",
              "      <td>http://images.amazon.com/images/P/0312278586.0...</td>\n",
              "    </tr>\n",
              "    <tr>\n",
              "      <th>2</th>\n",
              "      <td>743418174</td>\n",
              "      <td>470</td>\n",
              "      <td>4.040426</td>\n",
              "      <td>Good in Bed</td>\n",
              "      <td>Jennifer Weiner</td>\n",
              "      <td>2002</td>\n",
              "      <td>Washington Square Press</td>\n",
              "      <td>http://images.amazon.com/images/P/0743418174.0...</td>\n",
              "      <td>http://images.amazon.com/images/P/0743418174.0...</td>\n",
              "      <td>http://images.amazon.com/images/P/0743418174.0...</td>\n",
              "    </tr>\n",
              "    <tr>\n",
              "      <th>3</th>\n",
              "      <td>440241073</td>\n",
              "      <td>456</td>\n",
              "      <td>3.195175</td>\n",
              "      <td>The Summons</td>\n",
              "      <td>John Grisham</td>\n",
              "      <td>2002</td>\n",
              "      <td>Dell Publishing Company</td>\n",
              "      <td>http://images.amazon.com/images/P/0440241073.0...</td>\n",
              "      <td>http://images.amazon.com/images/P/0440241073.0...</td>\n",
              "      <td>http://images.amazon.com/images/P/0440241073.0...</td>\n",
              "    </tr>\n",
              "    <tr>\n",
              "      <th>4</th>\n",
              "      <td>446610038</td>\n",
              "      <td>391</td>\n",
              "      <td>3.498721</td>\n",
              "      <td>1st to Die: A Novel</td>\n",
              "      <td>James Patterson</td>\n",
              "      <td>2002</td>\n",
              "      <td>Warner Vision</td>\n",
              "      <td>http://images.amazon.com/images/P/0446610038.0...</td>\n",
              "      <td>http://images.amazon.com/images/P/0446610038.0...</td>\n",
              "      <td>http://images.amazon.com/images/P/0446610038.0...</td>\n",
              "    </tr>\n",
              "  </tbody>\n",
              "</table>\n",
              "</div>"
            ],
            "text/plain": [
              "        ISBN  popularity_score  average_rating                  Book-Title  \\\n",
              "0  316666343              1295        4.468726   The Lovely Bones: A Novel   \n",
              "1  312278586               474        3.597046  The Nanny Diaries: A Novel   \n",
              "2  743418174               470        4.040426                 Good in Bed   \n",
              "3  440241073               456        3.195175                 The Summons   \n",
              "4  446610038               391        3.498721         1st to Die: A Novel   \n",
              "\n",
              "       Book-Author  Year-Of-Publication                Publisher  \\\n",
              "0     Alice Sebold                 2002            Little, Brown   \n",
              "1  Emma McLaughlin                 2002       St. Martin's Press   \n",
              "2  Jennifer Weiner                 2002  Washington Square Press   \n",
              "3     John Grisham                 2002  Dell Publishing Company   \n",
              "4  James Patterson                 2002            Warner Vision   \n",
              "\n",
              "                                         Image-URL-S  \\\n",
              "0  http://images.amazon.com/images/P/0316666343.0...   \n",
              "1  http://images.amazon.com/images/P/0312278586.0...   \n",
              "2  http://images.amazon.com/images/P/0743418174.0...   \n",
              "3  http://images.amazon.com/images/P/0440241073.0...   \n",
              "4  http://images.amazon.com/images/P/0446610038.0...   \n",
              "\n",
              "                                         Image-URL-M  \\\n",
              "0  http://images.amazon.com/images/P/0316666343.0...   \n",
              "1  http://images.amazon.com/images/P/0312278586.0...   \n",
              "2  http://images.amazon.com/images/P/0743418174.0...   \n",
              "3  http://images.amazon.com/images/P/0440241073.0...   \n",
              "4  http://images.amazon.com/images/P/0446610038.0...   \n",
              "\n",
              "                                         Image-URL-L  \n",
              "0  http://images.amazon.com/images/P/0316666343.0...  \n",
              "1  http://images.amazon.com/images/P/0312278586.0...  \n",
              "2  http://images.amazon.com/images/P/0743418174.0...  \n",
              "3  http://images.amazon.com/images/P/0440241073.0...  \n",
              "4  http://images.amazon.com/images/P/0446610038.0...  "
            ]
          },
          "execution_count": 188,
          "metadata": {},
          "output_type": "execute_result"
        }
      ],
      "source": [
        "trending_books"
      ]
    }
  ],
  "metadata": {
    "colab": {
      "provenance": [],
      "toc_visible": true
    },
    "kernelspec": {
      "display_name": "recommendation_system_kernel",
      "language": "python",
      "name": "deep_learning_env"
    },
    "language_info": {
      "codemirror_mode": {
        "name": "ipython",
        "version": 3
      },
      "file_extension": ".py",
      "mimetype": "text/x-python",
      "name": "python",
      "nbconvert_exporter": "python",
      "pygments_lexer": "ipython3",
      "version": "3.10.11"
    }
  },
  "nbformat": 4,
  "nbformat_minor": 0
}
